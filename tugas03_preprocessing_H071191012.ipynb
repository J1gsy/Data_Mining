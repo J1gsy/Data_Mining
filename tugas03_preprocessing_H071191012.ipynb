{
  "nbformat": 4,
  "nbformat_minor": 0,
  "metadata": {
    "kernelspec": {
      "display_name": "Python 3",
      "language": "python",
      "name": "python3"
    },
    "language_info": {
      "codemirror_mode": {
        "name": "ipython",
        "version": 2
      },
      "file_extension": ".py",
      "mimetype": "text/x-python",
      "name": "python",
      "nbconvert_exporter": "python",
      "pygments_lexer": "ipython2",
      "version": "2.7.6"
    },
    "colab": {
      "name": "assignment03-preprocessing-H071191012.ipynb",
      "provenance": [],
      "include_colab_link": true
    }
  },
  "cells": [
    {
      "cell_type": "markdown",
      "metadata": {
        "id": "view-in-github",
        "colab_type": "text"
      },
      "source": [
        "<a href=\"https://colab.research.google.com/github/J1gsy/Data_Mining/blob/main/assignment03_preprocessing_H071191012.ipynb\" target=\"_parent\"><img src=\"https://colab.research.google.com/assets/colab-badge.svg\" alt=\"Open In Colab\"/></a>"
      ]
    },
    {
      "cell_type": "markdown",
      "metadata": {
        "collapsed": true,
        "pycharm": {
          "name": "#%% md\n"
        },
        "id": "3vxHE4_g3n_G"
      },
      "source": [
        "# Preprocessing Structured Data"
      ]
    },
    {
      "cell_type": "markdown",
      "metadata": {
        "collapsed": false,
        "pycharm": {
          "name": "#%% md\n"
        },
        "id": "vEFiMyCm3n_M"
      },
      "source": [
        "## Preparation"
      ]
    },
    {
      "cell_type": "code",
      "metadata": {
        "pycharm": {
          "name": "#%%\n"
        },
        "id": "JV70jAKF3n_N"
      },
      "source": [
        "import pandas as pd\n",
        "import numpy as np\n",
        "from sklearn import preprocessing\n",
        "import matplotlib.pyplot as plt\n",
        "import seaborn as sns"
      ],
      "execution_count": null,
      "outputs": []
    },
    {
      "cell_type": "code",
      "metadata": {
        "pycharm": {
          "name": "#%%\n"
        },
        "id": "pw0_SkDa3n_P",
        "outputId": "7d6dfe34-fadb-41d3-c9b3-daf4049f1760"
      },
      "source": [
        "df = pd.read_csv('Datasets/Data_Cortex_Nuclear.csv')\n",
        "df"
      ],
      "execution_count": null,
      "outputs": [
        {
          "data": {
            "text/plain": "       MouseID  DYRK1A_N   ITSN1_N    BDNF_N     NR1_N    NR2A_N    pAKT_N  \\\n0        309_1  0.503644  0.747193  0.430175  2.816329  5.990152  0.218830   \n1        309_2  0.514617  0.689064  0.411770  2.789514  5.685038  0.211636   \n2        309_3  0.509183  0.730247  0.418309  2.687201  5.622059  0.209011   \n3        309_4  0.442107  0.617076  0.358626  2.466947  4.979503  0.222886   \n4        309_5  0.434940  0.617430  0.358802  2.365785  4.718679  0.213106   \n...        ...       ...       ...       ...       ...       ...       ...   \n1075  J3295_11  0.254860  0.463591  0.254860  2.092082  2.600035  0.211736   \n1076  J3295_12  0.272198  0.474163  0.251638  2.161390  2.801492  0.251274   \n1077  J3295_13  0.228700  0.395179  0.234118  1.733184  2.220852  0.220665   \n1078  J3295_14  0.221242  0.412894  0.243974  1.876347  2.384088  0.208897   \n1079  J3295_15  0.302626  0.461059  0.256564  2.092790  2.594348  0.251001   \n\n       pBRAF_N  pCAMKII_N   pCREB_N  ...   pCFOS_N     SYP_N  H3AcK18_N  \\\n0     0.177565   2.373744  0.232224  ...  0.108336  0.427099   0.114783   \n1     0.172817   2.292150  0.226972  ...  0.104315  0.441581   0.111974   \n2     0.175722   2.283337  0.230247  ...  0.106219  0.435777   0.111883   \n3     0.176463   2.152301  0.207004  ...  0.111262  0.391691   0.130405   \n4     0.173627   2.134014  0.192158  ...  0.110694  0.434154   0.118481   \n...        ...        ...       ...  ...       ...       ...        ...   \n1075  0.171262   2.483740  0.207317  ...  0.183324  0.374088   0.318782   \n1076  0.182496   2.512737  0.216339  ...  0.175674  0.375259   0.325639   \n1077  0.161435   1.989723  0.185164  ...  0.158296  0.422121   0.321306   \n1078  0.173623   2.086028  0.192044  ...  0.196296  0.397676   0.335936   \n1079  0.191811   2.361816  0.223632  ...  0.187556  0.420347   0.335062   \n\n        EGR1_N  H3MeK4_N    CaNA_N  Genotype  Treatment  Behavior   class  \n0     0.131790  0.128186  1.675652   Control  Memantine       C/S  c-CS-m  \n1     0.135103  0.131119  1.743610   Control  Memantine       C/S  c-CS-m  \n2     0.133362  0.127431  1.926427   Control  Memantine       C/S  c-CS-m  \n3     0.147444  0.146901  1.700563   Control  Memantine       C/S  c-CS-m  \n4     0.140314  0.148380  1.839730   Control  Memantine       C/S  c-CS-m  \n...        ...       ...       ...       ...        ...       ...     ...  \n1075  0.204660  0.328327  1.364823    Ts65Dn     Saline       S/C  t-SC-s  \n1076  0.200415  0.293435  1.364478    Ts65Dn     Saline       S/C  t-SC-s  \n1077  0.229193  0.355213  1.430825    Ts65Dn     Saline       S/C  t-SC-s  \n1078  0.251317  0.365353  1.404031    Ts65Dn     Saline       S/C  t-SC-s  \n1079  0.252995  0.365278  1.370999    Ts65Dn     Saline       S/C  t-SC-s  \n\n[1080 rows x 82 columns]",
            "text/html": "<div>\n<style scoped>\n    .dataframe tbody tr th:only-of-type {\n        vertical-align: middle;\n    }\n\n    .dataframe tbody tr th {\n        vertical-align: top;\n    }\n\n    .dataframe thead th {\n        text-align: right;\n    }\n</style>\n<table border=\"1\" class=\"dataframe\">\n  <thead>\n    <tr style=\"text-align: right;\">\n      <th></th>\n      <th>MouseID</th>\n      <th>DYRK1A_N</th>\n      <th>ITSN1_N</th>\n      <th>BDNF_N</th>\n      <th>NR1_N</th>\n      <th>NR2A_N</th>\n      <th>pAKT_N</th>\n      <th>pBRAF_N</th>\n      <th>pCAMKII_N</th>\n      <th>pCREB_N</th>\n      <th>...</th>\n      <th>pCFOS_N</th>\n      <th>SYP_N</th>\n      <th>H3AcK18_N</th>\n      <th>EGR1_N</th>\n      <th>H3MeK4_N</th>\n      <th>CaNA_N</th>\n      <th>Genotype</th>\n      <th>Treatment</th>\n      <th>Behavior</th>\n      <th>class</th>\n    </tr>\n  </thead>\n  <tbody>\n    <tr>\n      <th>0</th>\n      <td>309_1</td>\n      <td>0.503644</td>\n      <td>0.747193</td>\n      <td>0.430175</td>\n      <td>2.816329</td>\n      <td>5.990152</td>\n      <td>0.218830</td>\n      <td>0.177565</td>\n      <td>2.373744</td>\n      <td>0.232224</td>\n      <td>...</td>\n      <td>0.108336</td>\n      <td>0.427099</td>\n      <td>0.114783</td>\n      <td>0.131790</td>\n      <td>0.128186</td>\n      <td>1.675652</td>\n      <td>Control</td>\n      <td>Memantine</td>\n      <td>C/S</td>\n      <td>c-CS-m</td>\n    </tr>\n    <tr>\n      <th>1</th>\n      <td>309_2</td>\n      <td>0.514617</td>\n      <td>0.689064</td>\n      <td>0.411770</td>\n      <td>2.789514</td>\n      <td>5.685038</td>\n      <td>0.211636</td>\n      <td>0.172817</td>\n      <td>2.292150</td>\n      <td>0.226972</td>\n      <td>...</td>\n      <td>0.104315</td>\n      <td>0.441581</td>\n      <td>0.111974</td>\n      <td>0.135103</td>\n      <td>0.131119</td>\n      <td>1.743610</td>\n      <td>Control</td>\n      <td>Memantine</td>\n      <td>C/S</td>\n      <td>c-CS-m</td>\n    </tr>\n    <tr>\n      <th>2</th>\n      <td>309_3</td>\n      <td>0.509183</td>\n      <td>0.730247</td>\n      <td>0.418309</td>\n      <td>2.687201</td>\n      <td>5.622059</td>\n      <td>0.209011</td>\n      <td>0.175722</td>\n      <td>2.283337</td>\n      <td>0.230247</td>\n      <td>...</td>\n      <td>0.106219</td>\n      <td>0.435777</td>\n      <td>0.111883</td>\n      <td>0.133362</td>\n      <td>0.127431</td>\n      <td>1.926427</td>\n      <td>Control</td>\n      <td>Memantine</td>\n      <td>C/S</td>\n      <td>c-CS-m</td>\n    </tr>\n    <tr>\n      <th>3</th>\n      <td>309_4</td>\n      <td>0.442107</td>\n      <td>0.617076</td>\n      <td>0.358626</td>\n      <td>2.466947</td>\n      <td>4.979503</td>\n      <td>0.222886</td>\n      <td>0.176463</td>\n      <td>2.152301</td>\n      <td>0.207004</td>\n      <td>...</td>\n      <td>0.111262</td>\n      <td>0.391691</td>\n      <td>0.130405</td>\n      <td>0.147444</td>\n      <td>0.146901</td>\n      <td>1.700563</td>\n      <td>Control</td>\n      <td>Memantine</td>\n      <td>C/S</td>\n      <td>c-CS-m</td>\n    </tr>\n    <tr>\n      <th>4</th>\n      <td>309_5</td>\n      <td>0.434940</td>\n      <td>0.617430</td>\n      <td>0.358802</td>\n      <td>2.365785</td>\n      <td>4.718679</td>\n      <td>0.213106</td>\n      <td>0.173627</td>\n      <td>2.134014</td>\n      <td>0.192158</td>\n      <td>...</td>\n      <td>0.110694</td>\n      <td>0.434154</td>\n      <td>0.118481</td>\n      <td>0.140314</td>\n      <td>0.148380</td>\n      <td>1.839730</td>\n      <td>Control</td>\n      <td>Memantine</td>\n      <td>C/S</td>\n      <td>c-CS-m</td>\n    </tr>\n    <tr>\n      <th>...</th>\n      <td>...</td>\n      <td>...</td>\n      <td>...</td>\n      <td>...</td>\n      <td>...</td>\n      <td>...</td>\n      <td>...</td>\n      <td>...</td>\n      <td>...</td>\n      <td>...</td>\n      <td>...</td>\n      <td>...</td>\n      <td>...</td>\n      <td>...</td>\n      <td>...</td>\n      <td>...</td>\n      <td>...</td>\n      <td>...</td>\n      <td>...</td>\n      <td>...</td>\n      <td>...</td>\n    </tr>\n    <tr>\n      <th>1075</th>\n      <td>J3295_11</td>\n      <td>0.254860</td>\n      <td>0.463591</td>\n      <td>0.254860</td>\n      <td>2.092082</td>\n      <td>2.600035</td>\n      <td>0.211736</td>\n      <td>0.171262</td>\n      <td>2.483740</td>\n      <td>0.207317</td>\n      <td>...</td>\n      <td>0.183324</td>\n      <td>0.374088</td>\n      <td>0.318782</td>\n      <td>0.204660</td>\n      <td>0.328327</td>\n      <td>1.364823</td>\n      <td>Ts65Dn</td>\n      <td>Saline</td>\n      <td>S/C</td>\n      <td>t-SC-s</td>\n    </tr>\n    <tr>\n      <th>1076</th>\n      <td>J3295_12</td>\n      <td>0.272198</td>\n      <td>0.474163</td>\n      <td>0.251638</td>\n      <td>2.161390</td>\n      <td>2.801492</td>\n      <td>0.251274</td>\n      <td>0.182496</td>\n      <td>2.512737</td>\n      <td>0.216339</td>\n      <td>...</td>\n      <td>0.175674</td>\n      <td>0.375259</td>\n      <td>0.325639</td>\n      <td>0.200415</td>\n      <td>0.293435</td>\n      <td>1.364478</td>\n      <td>Ts65Dn</td>\n      <td>Saline</td>\n      <td>S/C</td>\n      <td>t-SC-s</td>\n    </tr>\n    <tr>\n      <th>1077</th>\n      <td>J3295_13</td>\n      <td>0.228700</td>\n      <td>0.395179</td>\n      <td>0.234118</td>\n      <td>1.733184</td>\n      <td>2.220852</td>\n      <td>0.220665</td>\n      <td>0.161435</td>\n      <td>1.989723</td>\n      <td>0.185164</td>\n      <td>...</td>\n      <td>0.158296</td>\n      <td>0.422121</td>\n      <td>0.321306</td>\n      <td>0.229193</td>\n      <td>0.355213</td>\n      <td>1.430825</td>\n      <td>Ts65Dn</td>\n      <td>Saline</td>\n      <td>S/C</td>\n      <td>t-SC-s</td>\n    </tr>\n    <tr>\n      <th>1078</th>\n      <td>J3295_14</td>\n      <td>0.221242</td>\n      <td>0.412894</td>\n      <td>0.243974</td>\n      <td>1.876347</td>\n      <td>2.384088</td>\n      <td>0.208897</td>\n      <td>0.173623</td>\n      <td>2.086028</td>\n      <td>0.192044</td>\n      <td>...</td>\n      <td>0.196296</td>\n      <td>0.397676</td>\n      <td>0.335936</td>\n      <td>0.251317</td>\n      <td>0.365353</td>\n      <td>1.404031</td>\n      <td>Ts65Dn</td>\n      <td>Saline</td>\n      <td>S/C</td>\n      <td>t-SC-s</td>\n    </tr>\n    <tr>\n      <th>1079</th>\n      <td>J3295_15</td>\n      <td>0.302626</td>\n      <td>0.461059</td>\n      <td>0.256564</td>\n      <td>2.092790</td>\n      <td>2.594348</td>\n      <td>0.251001</td>\n      <td>0.191811</td>\n      <td>2.361816</td>\n      <td>0.223632</td>\n      <td>...</td>\n      <td>0.187556</td>\n      <td>0.420347</td>\n      <td>0.335062</td>\n      <td>0.252995</td>\n      <td>0.365278</td>\n      <td>1.370999</td>\n      <td>Ts65Dn</td>\n      <td>Saline</td>\n      <td>S/C</td>\n      <td>t-SC-s</td>\n    </tr>\n  </tbody>\n</table>\n<p>1080 rows × 82 columns</p>\n</div>"
          },
          "execution_count": 237,
          "metadata": {},
          "output_type": "execute_result"
        }
      ]
    },
    {
      "cell_type": "code",
      "metadata": {
        "pycharm": {
          "name": "#%%\n"
        },
        "id": "CVL2wZZI3n_R",
        "outputId": "01ac41f7-de77-4c93-fa52-6659458141ce"
      },
      "source": [
        "df.info()"
      ],
      "execution_count": null,
      "outputs": [
        {
          "name": "stdout",
          "output_type": "stream",
          "text": [
            "<class 'pandas.core.frame.DataFrame'>\n",
            "RangeIndex: 1080 entries, 0 to 1079\n",
            "Data columns (total 82 columns):\n",
            " #   Column           Non-Null Count  Dtype  \n",
            "---  ------           --------------  -----  \n",
            " 0   MouseID          1080 non-null   object \n",
            " 1   DYRK1A_N         1077 non-null   float64\n",
            " 2   ITSN1_N          1077 non-null   float64\n",
            " 3   BDNF_N           1077 non-null   float64\n",
            " 4   NR1_N            1077 non-null   float64\n",
            " 5   NR2A_N           1077 non-null   float64\n",
            " 6   pAKT_N           1077 non-null   float64\n",
            " 7   pBRAF_N          1077 non-null   float64\n",
            " 8   pCAMKII_N        1077 non-null   float64\n",
            " 9   pCREB_N          1077 non-null   float64\n",
            " 10  pELK_N           1077 non-null   float64\n",
            " 11  pERK_N           1077 non-null   float64\n",
            " 12  pJNK_N           1077 non-null   float64\n",
            " 13  PKCA_N           1077 non-null   float64\n",
            " 14  pMEK_N           1077 non-null   float64\n",
            " 15  pNR1_N           1077 non-null   float64\n",
            " 16  pNR2A_N          1077 non-null   float64\n",
            " 17  pNR2B_N          1077 non-null   float64\n",
            " 18  pPKCAB_N         1077 non-null   float64\n",
            " 19  pRSK_N           1077 non-null   float64\n",
            " 20  AKT_N            1077 non-null   float64\n",
            " 21  BRAF_N           1077 non-null   float64\n",
            " 22  CAMKII_N         1077 non-null   float64\n",
            " 23  CREB_N           1077 non-null   float64\n",
            " 24  ELK_N            1062 non-null   float64\n",
            " 25  ERK_N            1077 non-null   float64\n",
            " 26  GSK3B_N          1077 non-null   float64\n",
            " 27  JNK_N            1077 non-null   float64\n",
            " 28  MEK_N            1073 non-null   float64\n",
            " 29  TRKA_N           1077 non-null   float64\n",
            " 30  RSK_N            1077 non-null   float64\n",
            " 31  APP_N            1077 non-null   float64\n",
            " 32  Bcatenin_N       1062 non-null   float64\n",
            " 33  SOD1_N           1077 non-null   float64\n",
            " 34  MTOR_N           1077 non-null   float64\n",
            " 35  P38_N            1077 non-null   float64\n",
            " 36  pMTOR_N          1077 non-null   float64\n",
            " 37  DSCR1_N          1077 non-null   float64\n",
            " 38  AMPKA_N          1077 non-null   float64\n",
            " 39  NR2B_N           1077 non-null   float64\n",
            " 40  pNUMB_N          1077 non-null   float64\n",
            " 41  RAPTOR_N         1077 non-null   float64\n",
            " 42  TIAM1_N          1077 non-null   float64\n",
            " 43  pP70S6_N         1077 non-null   float64\n",
            " 44  NUMB_N           1080 non-null   float64\n",
            " 45  P70S6_N          1080 non-null   float64\n",
            " 46  pGSK3B_N         1080 non-null   float64\n",
            " 47  pPKCG_N          1080 non-null   float64\n",
            " 48  CDK5_N           1080 non-null   float64\n",
            " 49  S6_N             1080 non-null   float64\n",
            " 50  ADARB1_N         1080 non-null   float64\n",
            " 51  AcetylH3K9_N     1080 non-null   float64\n",
            " 52  RRP1_N           1080 non-null   float64\n",
            " 53  BAX_N            1080 non-null   float64\n",
            " 54  ARC_N            1080 non-null   float64\n",
            " 55  ERBB4_N          1080 non-null   float64\n",
            " 56  nNOS_N           1080 non-null   float64\n",
            " 57  Tau_N            1080 non-null   float64\n",
            " 58  GFAP_N           1080 non-null   float64\n",
            " 59  GluR3_N          1080 non-null   float64\n",
            " 60  GluR4_N          1080 non-null   float64\n",
            " 61  IL1B_N           1080 non-null   float64\n",
            " 62  P3525_N          1080 non-null   float64\n",
            " 63  pCASP9_N         1080 non-null   float64\n",
            " 64  PSD95_N          1080 non-null   float64\n",
            " 65  SNCA_N           1080 non-null   float64\n",
            " 66  Ubiquitin_N      1080 non-null   float64\n",
            " 67  pGSK3B_Tyr216_N  1080 non-null   float64\n",
            " 68  SHH_N            1080 non-null   float64\n",
            " 69  BAD_N            867 non-null    float64\n",
            " 70  BCL2_N           795 non-null    float64\n",
            " 71  pS6_N            1080 non-null   float64\n",
            " 72  pCFOS_N          1005 non-null   float64\n",
            " 73  SYP_N            1080 non-null   float64\n",
            " 74  H3AcK18_N        900 non-null    float64\n",
            " 75  EGR1_N           870 non-null    float64\n",
            " 76  H3MeK4_N         810 non-null    float64\n",
            " 77  CaNA_N           1080 non-null   float64\n",
            " 78  Genotype         1080 non-null   object \n",
            " 79  Treatment        1080 non-null   object \n",
            " 80  Behavior         1080 non-null   object \n",
            " 81  class            1080 non-null   object \n",
            "dtypes: float64(77), object(5)\n",
            "memory usage: 692.0+ KB\n"
          ]
        }
      ]
    },
    {
      "cell_type": "code",
      "metadata": {
        "pycharm": {
          "name": "#%%\n"
        },
        "id": "1V8cDkZB3n_S",
        "outputId": "4597e03e-197b-4735-bedf-4200d5a1ede8"
      },
      "source": [
        "df.value_counts()"
      ],
      "execution_count": null,
      "outputs": [
        {
          "data": {
            "text/plain": "MouseID   DYRK1A_N  ITSN1_N   BDNF_N    NR1_N     NR2A_N    pAKT_N    pBRAF_N   pCAMKII_N  pCREB_N   pELK_N    pERK_N    pJNK_N    PKCA_N    pMEK_N    pNR1_N    pNR2A_N   pNR2B_N   pPKCAB_N  pRSK_N    AKT_N     BRAF_N    CAMKII_N  CREB_N    ELK_N     ERK_N     GSK3B_N   JNK_N     MEK_N     TRKA_N    RSK_N     APP_N     Bcatenin_N  SOD1_N    MTOR_N    P38_N     pMTOR_N   DSCR1_N   AMPKA_N   NR2B_N    pNUMB_N   RAPTOR_N  TIAM1_N   pP70S6_N  NUMB_N    P70S6_N   pGSK3B_N  pPKCG_N   CDK5_N    S6_N      ADARB1_N  AcetylH3K9_N  RRP1_N    BAX_N     ARC_N     ERBB4_N   nNOS_N    Tau_N     GFAP_N    GluR3_N   GluR4_N   IL1B_N    P3525_N   pCASP9_N  PSD95_N   SNCA_N    Ubiquitin_N  pGSK3B_Tyr216_N  SHH_N     BAD_N     BCL2_N    pS6_N     pCFOS_N   SYP_N     H3AcK18_N  EGR1_N    H3MeK4_N  CaNA_N    Genotype  Treatment  Behavior  class \n293_1     0.364727  0.649212  0.333576  2.670424  4.657333  0.263273  0.201576  4.537091   0.262303  1.492121  0.382061  0.361697  0.336485  0.310303  0.991515  1.033697  1.875758  1.083879  0.505576  0.752848  0.267394  0.376364  0.189818  1.607273  3.026667  1.124121  0.256000  0.291758  0.779152  0.176242  0.462061  2.876242    1.466667  0.465576  0.456000  0.926788  0.608121  0.410788  0.596364  0.378424  0.390061  0.498788  0.382424  0.188157  1.010048  0.152656  1.631723  0.292652  0.499230  1.349588  0.679684      0.156474  0.184674  0.135307  0.177172  0.215688  0.351330  0.117824  0.196463  0.120772  0.529439  0.279724  1.711434  2.438743  0.145958  1.439279     0.717061         0.186952  0.129614  0.095385  0.135307  0.099404  0.489383  0.400228   0.139862  0.284145  1.198272  Ts65Dn    Memantine  S/C       t-SC-m    1\n3521_8    0.639174  0.843304  0.344837  2.389340  4.126449  0.237841  0.178814  5.048501   0.207728  1.535510  0.828514  0.322052  0.340306  0.285410  0.779347  0.625583  1.395470  1.974817  0.509927  0.658228  0.579747  0.353098  0.178548  1.137908  2.673951  1.506329  0.251832  0.275416  0.781879  0.171486  0.411726  2.362425    0.313791  0.430513  0.356829  0.713524  0.508594  0.365756  0.540440  0.379614  0.290740  0.355896  0.413058  0.175896  0.917801  0.162678  2.016815  0.321289  0.486782  1.600813  0.172532      0.156656  0.175661  0.121070  0.164086  0.188800  0.199202  0.119506  0.205146  0.120131  0.498827  0.281323  1.467699  2.207649  0.133662  1.179728     0.953621         0.257078  0.142734  0.095417  0.121070  0.095886  0.453778  0.113953   0.130455  0.151025  1.537385  Control   Memantine  C/S       c-CS-m    1\n3521_2    0.778713  1.063761  0.447825  2.841390  4.975746  0.223787  0.199283  3.979330   0.273796  1.797550  1.197700  0.346308  0.389398  0.296633  0.964077  0.796299  1.712869  2.061510  0.429488  0.839223  0.720703  0.383397  0.194366  1.957410  3.727455  1.514086  0.273796  0.337640  0.906234  0.198616  0.483581  2.806468    0.371562  0.499750  0.417986  0.799133  0.512419  0.456743  0.594016  0.414486  0.321387  0.439073  0.261627  0.204071  0.993274  0.165384  1.644305  0.328263  0.592034  1.764013  0.197433      0.150437  0.167978  0.128413  0.159318  0.195894  0.204510  0.110256  0.219809  0.123093  0.478481  0.315514  1.552249  2.237306  0.148063  1.180244     0.923770         0.242362  0.122478  0.102695  0.128413  0.100805  0.472282  0.120807   0.136985  0.136106  1.449598  Control   Memantine  C/S       c-CS-m    1\n3521_3    0.767988  0.945994  0.431229  2.762278  4.456110  0.219856  0.190162  3.883097   0.261951  1.745554  1.168706  0.344510  0.379507  0.290178  0.933350  0.769783  1.686164  2.084190  0.424294  0.794094  0.674335  0.377631  0.192446  1.971366  3.524882  1.555963  0.264970  0.323054  0.879099  0.184451  0.481237  2.642601    0.366944  0.499918  0.412628  0.775004  0.493637  0.435063  0.573992  0.410344  0.315875  0.441344  0.249307  0.200639  1.002173  0.168175  1.695938  0.324330  0.587946  2.016188  0.192744      0.148350  0.171678  0.126087  0.149902  0.190970  0.206626  0.107637  0.220640  0.125732  0.462968  0.327435  1.531932  2.135045  0.148040  1.227160     0.917731         0.241928  0.127506  0.099033  0.126087  0.098723  0.474543  0.127861   0.139702  0.137085  1.449486  Control   Memantine  C/S       c-CS-m    1\n3521_4    0.646065  0.893513  0.386822  2.581084  4.319007  0.236221  0.189045  5.238830   0.234634  1.769222  0.979587  0.338966  0.374348  0.299047  0.847244  0.690973  1.617827  2.113291  0.550578  0.739283  0.684169  0.373214  0.189726  1.429349  3.104559  1.558743  0.266500  0.297460  0.836131  0.179179  0.445339  2.616013    0.367203  0.476866  0.410637  0.793491  0.538784  0.412225  0.578816  0.404854  0.338739  0.398390  0.372533  0.193531  0.969729  0.168651  1.879391  0.312126  0.516972  1.649428  0.182572      0.148214  0.165689  0.120076  0.159588  0.203009  0.197619  0.109828  0.219004  0.119010  0.457023  0.293585  1.522836  2.222202  0.131450  1.162727     0.947278         0.244121  0.130798  0.089509  0.120076  0.099579  0.457260  0.115692   0.127955  0.142112  1.575914  Control   Memantine  C/S       c-CS-m    1\n                                                                                                                                                                                                                                                                                                                                                                                                                                                                                                                                                                                                                                                                                                                                                                                                                                                                      ..\n3480_10   0.284727  0.440006  0.277970  2.110978  3.603694  0.162487  0.127497  2.718426   0.148671  0.871152  0.445562  0.233669  0.313561  0.165490  0.762427  0.699955  1.376183  2.029434  0.309055  0.429944  0.226010  0.282325  0.125995  0.660760  2.228413  1.135456  0.177054  0.178856  0.567202  0.128848  0.338339  1.767683    0.261000  0.433098  0.341343  0.633579  0.508635  0.328428  0.494218  0.334585  0.259949  0.355909  0.297342  0.173878  0.695009  0.151338  1.895955  0.259610  0.290602  1.359730  0.113705      0.137855  0.173576  0.112497  0.132119  0.160596  0.131113  0.113403  0.222681  0.112095  0.437009  0.282149  1.348259  2.001107  0.144194  1.006339     0.800463         0.204870  0.136043  0.108674  0.112497  0.126987  0.392031  0.103139   0.150231  0.145301  1.683337  Control   Saline     C/S       c-CS-s    1\n3480_1    0.389727  0.647760  0.397923  2.755355  4.880883  0.124959  0.123580  2.899546   0.210565  1.126988  0.746186  0.192227  0.377881  0.193038  0.953749  1.050633  1.882100  2.189305  0.271016  0.414476  0.290084  0.354349  0.161960  0.973791  3.707481  1.368711  0.174619  0.205047  0.821487  0.150600  0.424943  2.598588    0.339825  0.507546  0.358893  0.735557  0.521503  0.413178  0.554041  0.355566  0.284891  0.408066  0.239127  0.223439  1.048014  0.171576  1.412654  0.290603  0.400284  2.146058  0.149814      0.156458  0.198836  0.120264  0.154029  0.172035  0.161497  0.118889  0.280341  0.146791  0.530581  0.331928  1.738901  2.146012  0.166674  1.018922     0.821231         0.214688  0.127411  0.117836  0.120264  0.125762  0.526458  0.108581   0.150502  0.115270  1.746003  Control   Saline     C/S       c-CS-s    1\n3478_9    0.346266  0.565782  0.369603  2.501459  4.615665  0.248833  0.179697  2.995187   0.183635  1.449387  0.414090  0.320303  0.388273  0.289236  0.889002  0.603413  1.646441  2.423279  0.539965  0.663506  0.310823  0.364207  0.187427  1.295799  3.069574  1.388273  0.264294  0.305863  0.755688  0.165986  0.382293  2.275525    0.325117  0.496791  0.385648  0.807176  0.660735  0.442532  0.600058  0.431593  0.363915  0.460035  0.521733  0.168872  0.893251  0.169681  2.092413  0.327378  0.351051  1.946184  0.279371      0.166005  0.197030  0.115792  0.158947  0.164167  0.192178  0.121526  0.181738  0.103147  0.483532  0.330834  1.467431  2.020953  0.161667  1.055580     0.800765         0.219453  0.147552  0.133657  0.115792  0.129981  0.479782  0.191148   0.179679  0.184458  1.601309  Control   Saline     C/S       c-CS-s    1\n3478_8    0.344949  0.574180  0.350978  2.414939  4.383914  0.240112  0.181591  2.959124   0.206734  1.350243  0.419791  0.310837  0.378621  0.286428  0.845170  0.586678  1.682106  2.271284  0.520659  0.695339  0.322011  0.360682  0.178356  1.256286  3.029554  1.402294  0.258638  0.293633  0.761212  0.179238  0.387884  2.219085    0.344949  0.475518  0.396559  0.731510  0.590501  0.408763  0.609616  0.433760  0.346420  0.436700  0.505073  0.170866  0.896091  0.164758  2.062910  0.319896  0.399527  1.781112  0.298901      0.150863  0.196977  0.121545  0.160177  0.150328  0.198580  0.124294  0.187357  0.102993  0.488395  0.323255  1.516109  2.071919  0.160101  1.139640     0.820507         0.213697  0.149565  0.138113  0.121545  0.125973  0.486410  0.204993   0.176668  0.187357  1.733852  Control   Saline     C/S       c-CS-s    1\n50810E_9  0.489536  0.704957  0.305586  2.220456  3.640913  0.209913  0.173092  2.445633   0.200787  1.317703  0.554367  0.297404  0.310622  0.257592  0.701652  0.569315  1.424233  1.896302  0.449882  0.582533  0.391031  0.311880  0.169158  1.069709  2.563651  1.303855  0.243430  0.278049  0.729190  0.157828  0.489064  2.026436    0.304013  0.388513  0.294099  0.644060  0.545083  0.308104  0.471440  0.326829  0.266404  0.388828  0.356727  0.204149  0.797643  0.177369  2.147195  0.351061  0.527581  1.334182  0.273456      0.166808  0.197454  0.110042  0.147855  0.125035  0.187930  0.133428  0.190005  0.114851  0.417067  0.307402  1.401226  2.232343  0.151532  1.203017     0.843564         0.213956  0.162565  0.125035  0.110042  0.119472  0.538991  0.181235   0.170391  0.196794  1.666761  Ts65Dn    Saline     C/S       t-CS-s    1\nLength: 552, dtype: int64"
          },
          "execution_count": 239,
          "metadata": {},
          "output_type": "execute_result"
        }
      ]
    },
    {
      "cell_type": "code",
      "metadata": {
        "pycharm": {
          "name": "#%%\n"
        },
        "id": "IWO_5GnF3n_T",
        "outputId": "3a82fd57-8470-4775-8ab5-0ba67d1e85e6"
      },
      "source": [
        "column_names = df.columns\n",
        "column_names_class = column_names[78:]\n",
        "column_names_class"
      ],
      "execution_count": null,
      "outputs": [
        {
          "data": {
            "text/plain": "Index(['Genotype', 'Treatment', 'Behavior', 'class'], dtype='object')"
          },
          "execution_count": 240,
          "metadata": {},
          "output_type": "execute_result"
        }
      ]
    },
    {
      "cell_type": "code",
      "metadata": {
        "pycharm": {
          "name": "#%%\n"
        },
        "id": "w-bjj7OR3n_U",
        "outputId": "db6cd89d-2883-43a7-d046-27b5aac37a51"
      },
      "source": [
        "for i in column_names_class:\n",
        "    print(df[i].value_counts())"
      ],
      "execution_count": null,
      "outputs": [
        {
          "name": "stdout",
          "output_type": "stream",
          "text": [
            "Control    570\n",
            "Ts65Dn     510\n",
            "Name: Genotype, dtype: int64\n",
            "Memantine    570\n",
            "Saline       510\n",
            "Name: Treatment, dtype: int64\n",
            "S/C    555\n",
            "C/S    525\n",
            "Name: Behavior, dtype: int64\n",
            "c-CS-m    150\n",
            "c-SC-m    150\n",
            "c-CS-s    135\n",
            "c-SC-s    135\n",
            "t-CS-m    135\n",
            "t-SC-m    135\n",
            "t-SC-s    135\n",
            "t-CS-s    105\n",
            "Name: class, dtype: int64\n"
          ]
        }
      ]
    },
    {
      "cell_type": "code",
      "metadata": {
        "pycharm": {
          "name": "#%%\n"
        },
        "id": "sjaaVWZQ3n_V"
      },
      "source": [
        "# sns.set()\n",
        "# cols = column_names_class\n",
        "# sns.pairplot(df[cols], size=2.5)\n",
        "# plt.show()"
      ],
      "execution_count": null,
      "outputs": []
    },
    {
      "cell_type": "code",
      "metadata": {
        "pycharm": {
          "name": "#%%\n"
        },
        "id": "RogIayrV3n_W",
        "outputId": "cbc10d7f-d91a-4998-a460-0dcc9d152da7"
      },
      "source": [
        "for i in column_names_class:\n",
        "    df[i].value_counts().plot(kind='bar', title='count {target}')\n",
        "    plt.show()"
      ],
      "execution_count": null,
      "outputs": [
        {
          "data": {
            "text/plain": "<Figure size 432x288 with 1 Axes>",
            "image/png": "[encoded data removed]"
          },
          "metadata": {},
          "output_type": "display_data"
        },
        {
          "data": {
            "text/plain": "<Figure size 432x288 with 1 Axes>",
            "image/png": "[encoded data removed]"
          },
          "metadata": {},
          "output_type": "display_data"
        },
        {
          "data": {
            "text/plain": "<Figure size 432x288 with 1 Axes>",
            "image/png": "[encoded data removed]"
          },
          "metadata": {},
          "output_type": "display_data"
        },
        {
          "data": {
            "text/plain": "<Figure size 432x288 with 1 Axes>",
            "image/png": "[encoded data removed]"
          },
          "metadata": {},
          "output_type": "display_data"
        }
      ]
    },
    {
      "cell_type": "code",
      "metadata": {
        "pycharm": {
          "name": "#%%\n"
        },
        "id": "yQeeSuYz3n_X",
        "outputId": "a5d1203c-4710-4b10-a924-e784d10afd18"
      },
      "source": [
        "df.describe()"
      ],
      "execution_count": null,
      "outputs": [
        {
          "data": {
            "text/plain": "          DYRK1A_N      ITSN1_N       BDNF_N        NR1_N       NR2A_N  \\\ncount  1077.000000  1077.000000  1077.000000  1077.000000  1077.000000   \nmean      0.425810     0.617102     0.319088     2.297269     3.843934   \nstd       0.249362     0.251640     0.049383     0.347293     0.933100   \nmin       0.145327     0.245359     0.115181     1.330831     1.737540   \n25%       0.288121     0.473361     0.287444     2.057411     3.155678   \n50%       0.366378     0.565782     0.316564     2.296546     3.760855   \n75%       0.487711     0.698032     0.348197     2.528481     4.440011   \nmax       2.516367     2.602662     0.497160     3.757641     8.482553   \n\n            pAKT_N      pBRAF_N    pCAMKII_N      pCREB_N       pELK_N  ...  \\\ncount  1077.000000  1077.000000  1077.000000  1077.000000  1077.000000  ...   \nmean      0.233168     0.181846     3.537109     0.212574     1.428682  ...   \nstd       0.041634     0.027042     1.295169     0.032587     0.466904  ...   \nmin       0.063236     0.064043     1.343998     0.112812     0.429032  ...   \n25%       0.205755     0.164595     2.479834     0.190823     1.203665  ...   \n50%       0.231177     0.182302     3.326520     0.210594     1.355846  ...   \n75%       0.257261     0.197418     4.481940     0.234595     1.561316  ...   \nmax       0.539050     0.317066     7.464070     0.306247     6.113347  ...   \n\n             SHH_N       BAD_N      BCL2_N        pS6_N      pCFOS_N  \\\ncount  1080.000000  867.000000  795.000000  1080.000000  1005.000000   \nmean      0.226676    0.157914    0.134762     0.121521     0.131053   \nstd       0.028989    0.029537    0.027417     0.014276     0.023863   \nmin       0.155869    0.088305    0.080657     0.067254     0.085419   \n25%       0.206395    0.136424    0.115554     0.110839     0.113506   \n50%       0.224000    0.152313    0.129468     0.121626     0.126523   \n75%       0.241655    0.174017    0.148235     0.131955     0.143652   \nmax       0.358289    0.282016    0.261506     0.158748     0.256529   \n\n             SYP_N   H3AcK18_N      EGR1_N    H3MeK4_N       CaNA_N  \ncount  1080.000000  900.000000  870.000000  810.000000  1080.000000  \nmean      0.446073    0.169609    0.183135    0.205440     1.337784  \nstd       0.066432    0.059402    0.040406    0.055514     0.317126  \nmin       0.258626    0.079691    0.105537    0.101787     0.586479  \n25%       0.398082    0.125848    0.155121    0.165143     1.081423  \n50%       0.448459    0.158240    0.174935    0.193994     1.317441  \n75%       0.490773    0.197876    0.204542    0.235215     1.585824  \nmax       0.759588    0.479763    0.360692    0.413903     2.129791  \n\n[8 rows x 77 columns]",
            "text/html": "<div>\n<style scoped>\n    .dataframe tbody tr th:only-of-type {\n        vertical-align: middle;\n    }\n\n    .dataframe tbody tr th {\n        vertical-align: top;\n    }\n\n    .dataframe thead th {\n        text-align: right;\n    }\n</style>\n<table border=\"1\" class=\"dataframe\">\n  <thead>\n    <tr style=\"text-align: right;\">\n      <th></th>\n      <th>DYRK1A_N</th>\n      <th>ITSN1_N</th>\n      <th>BDNF_N</th>\n      <th>NR1_N</th>\n      <th>NR2A_N</th>\n      <th>pAKT_N</th>\n      <th>pBRAF_N</th>\n      <th>pCAMKII_N</th>\n      <th>pCREB_N</th>\n      <th>pELK_N</th>\n      <th>...</th>\n      <th>SHH_N</th>\n      <th>BAD_N</th>\n      <th>BCL2_N</th>\n      <th>pS6_N</th>\n      <th>pCFOS_N</th>\n      <th>SYP_N</th>\n      <th>H3AcK18_N</th>\n      <th>EGR1_N</th>\n      <th>H3MeK4_N</th>\n      <th>CaNA_N</th>\n    </tr>\n  </thead>\n  <tbody>\n    <tr>\n      <th>count</th>\n      <td>1077.000000</td>\n      <td>1077.000000</td>\n      <td>1077.000000</td>\n      <td>1077.000000</td>\n      <td>1077.000000</td>\n      <td>1077.000000</td>\n      <td>1077.000000</td>\n      <td>1077.000000</td>\n      <td>1077.000000</td>\n      <td>1077.000000</td>\n      <td>...</td>\n      <td>1080.000000</td>\n      <td>867.000000</td>\n      <td>795.000000</td>\n      <td>1080.000000</td>\n      <td>1005.000000</td>\n      <td>1080.000000</td>\n      <td>900.000000</td>\n      <td>870.000000</td>\n      <td>810.000000</td>\n      <td>1080.000000</td>\n    </tr>\n    <tr>\n      <th>mean</th>\n      <td>0.425810</td>\n      <td>0.617102</td>\n      <td>0.319088</td>\n      <td>2.297269</td>\n      <td>3.843934</td>\n      <td>0.233168</td>\n      <td>0.181846</td>\n      <td>3.537109</td>\n      <td>0.212574</td>\n      <td>1.428682</td>\n      <td>...</td>\n      <td>0.226676</td>\n      <td>0.157914</td>\n      <td>0.134762</td>\n      <td>0.121521</td>\n      <td>0.131053</td>\n      <td>0.446073</td>\n      <td>0.169609</td>\n      <td>0.183135</td>\n      <td>0.205440</td>\n      <td>1.337784</td>\n    </tr>\n    <tr>\n      <th>std</th>\n      <td>0.249362</td>\n      <td>0.251640</td>\n      <td>0.049383</td>\n      <td>0.347293</td>\n      <td>0.933100</td>\n      <td>0.041634</td>\n      <td>0.027042</td>\n      <td>1.295169</td>\n      <td>0.032587</td>\n      <td>0.466904</td>\n      <td>...</td>\n      <td>0.028989</td>\n      <td>0.029537</td>\n      <td>0.027417</td>\n      <td>0.014276</td>\n      <td>0.023863</td>\n      <td>0.066432</td>\n      <td>0.059402</td>\n      <td>0.040406</td>\n      <td>0.055514</td>\n      <td>0.317126</td>\n    </tr>\n    <tr>\n      <th>min</th>\n      <td>0.145327</td>\n      <td>0.245359</td>\n      <td>0.115181</td>\n      <td>1.330831</td>\n      <td>1.737540</td>\n      <td>0.063236</td>\n      <td>0.064043</td>\n      <td>1.343998</td>\n      <td>0.112812</td>\n      <td>0.429032</td>\n      <td>...</td>\n      <td>0.155869</td>\n      <td>0.088305</td>\n      <td>0.080657</td>\n      <td>0.067254</td>\n      <td>0.085419</td>\n      <td>0.258626</td>\n      <td>0.079691</td>\n      <td>0.105537</td>\n      <td>0.101787</td>\n      <td>0.586479</td>\n    </tr>\n    <tr>\n      <th>25%</th>\n      <td>0.288121</td>\n      <td>0.473361</td>\n      <td>0.287444</td>\n      <td>2.057411</td>\n      <td>3.155678</td>\n      <td>0.205755</td>\n      <td>0.164595</td>\n      <td>2.479834</td>\n      <td>0.190823</td>\n      <td>1.203665</td>\n      <td>...</td>\n      <td>0.206395</td>\n      <td>0.136424</td>\n      <td>0.115554</td>\n      <td>0.110839</td>\n      <td>0.113506</td>\n      <td>0.398082</td>\n      <td>0.125848</td>\n      <td>0.155121</td>\n      <td>0.165143</td>\n      <td>1.081423</td>\n    </tr>\n    <tr>\n      <th>50%</th>\n      <td>0.366378</td>\n      <td>0.565782</td>\n      <td>0.316564</td>\n      <td>2.296546</td>\n      <td>3.760855</td>\n      <td>0.231177</td>\n      <td>0.182302</td>\n      <td>3.326520</td>\n      <td>0.210594</td>\n      <td>1.355846</td>\n      <td>...</td>\n      <td>0.224000</td>\n      <td>0.152313</td>\n      <td>0.129468</td>\n      <td>0.121626</td>\n      <td>0.126523</td>\n      <td>0.448459</td>\n      <td>0.158240</td>\n      <td>0.174935</td>\n      <td>0.193994</td>\n      <td>1.317441</td>\n    </tr>\n    <tr>\n      <th>75%</th>\n      <td>0.487711</td>\n      <td>0.698032</td>\n      <td>0.348197</td>\n      <td>2.528481</td>\n      <td>4.440011</td>\n      <td>0.257261</td>\n      <td>0.197418</td>\n      <td>4.481940</td>\n      <td>0.234595</td>\n      <td>1.561316</td>\n      <td>...</td>\n      <td>0.241655</td>\n      <td>0.174017</td>\n      <td>0.148235</td>\n      <td>0.131955</td>\n      <td>0.143652</td>\n      <td>0.490773</td>\n      <td>0.197876</td>\n      <td>0.204542</td>\n      <td>0.235215</td>\n      <td>1.585824</td>\n    </tr>\n    <tr>\n      <th>max</th>\n      <td>2.516367</td>\n      <td>2.602662</td>\n      <td>0.497160</td>\n      <td>3.757641</td>\n      <td>8.482553</td>\n      <td>0.539050</td>\n      <td>0.317066</td>\n      <td>7.464070</td>\n      <td>0.306247</td>\n      <td>6.113347</td>\n      <td>...</td>\n      <td>0.358289</td>\n      <td>0.282016</td>\n      <td>0.261506</td>\n      <td>0.158748</td>\n      <td>0.256529</td>\n      <td>0.759588</td>\n      <td>0.479763</td>\n      <td>0.360692</td>\n      <td>0.413903</td>\n      <td>2.129791</td>\n    </tr>\n  </tbody>\n</table>\n<p>8 rows × 77 columns</p>\n</div>"
          },
          "execution_count": 244,
          "metadata": {},
          "output_type": "execute_result"
        }
      ]
    },
    {
      "cell_type": "code",
      "metadata": {
        "pycharm": {
          "name": "#%%\n"
        },
        "id": "4kvnV7UB3n_Y",
        "outputId": "4ed86c3c-b126-420a-93d7-0f16a1d128d0"
      },
      "source": [
        "df.dtypes"
      ],
      "execution_count": null,
      "outputs": [
        {
          "data": {
            "text/plain": "MouseID       object\nDYRK1A_N     float64\nITSN1_N      float64\nBDNF_N       float64\nNR1_N        float64\n              ...   \nCaNA_N       float64\nGenotype      object\nTreatment     object\nBehavior      object\nclass         object\nLength: 82, dtype: object"
          },
          "execution_count": 245,
          "metadata": {},
          "output_type": "execute_result"
        }
      ]
    },
    {
      "cell_type": "code",
      "metadata": {
        "pycharm": {
          "name": "#%%\n"
        },
        "id": "QOVZ0J0Y3n_Z"
      },
      "source": [
        "df = df.drop(['MouseID', 'Behavior', 'Genotype', 'class'], axis=1)"
      ],
      "execution_count": null,
      "outputs": []
    },
    {
      "cell_type": "markdown",
      "metadata": {
        "collapsed": false,
        "pycharm": {
          "name": "#%% md\n"
        },
        "id": "t7fWtyJN3n_Z"
      },
      "source": [
        "## Handle missing value"
      ]
    },
    {
      "cell_type": "code",
      "metadata": {
        "pycharm": {
          "name": "#%%\n"
        },
        "id": "W_J-gwNE3n_a",
        "outputId": "7c2841cf-9b08-4ffc-b317-414304a5a735"
      },
      "source": [
        "df.isnull().sum()"
      ],
      "execution_count": null,
      "outputs": [
        {
          "data": {
            "text/plain": "DYRK1A_N       3\nITSN1_N        3\nBDNF_N         3\nNR1_N          3\nNR2A_N         3\n            ... \nH3AcK18_N    180\nEGR1_N       210\nH3MeK4_N     270\nCaNA_N         0\nTreatment      0\nLength: 78, dtype: int64"
          },
          "execution_count": 247,
          "metadata": {},
          "output_type": "execute_result"
        }
      ]
    },
    {
      "cell_type": "code",
      "metadata": {
        "pycharm": {
          "name": "#%%\n"
        },
        "id": "RyktNLTP3n_b",
        "outputId": "258da9cb-67cc-4550-94c1-9d9ab3a98fc0"
      },
      "source": [
        "df.shape"
      ],
      "execution_count": null,
      "outputs": [
        {
          "data": {
            "text/plain": "(1080, 78)"
          },
          "execution_count": 248,
          "metadata": {},
          "output_type": "execute_result"
        }
      ]
    },
    {
      "cell_type": "markdown",
      "metadata": {
        "collapsed": false,
        "pycharm": {
          "name": "#%% md\n"
        },
        "id": "1FsdPQSb3n_b"
      },
      "source": [
        "### remove the row/columns that contain missing value"
      ]
    },
    {
      "cell_type": "code",
      "metadata": {
        "pycharm": {
          "name": "#%%\n"
        },
        "id": "WZVcq1cM3n_b",
        "outputId": "bd9a7d26-1fad-4416-89ce-ee640f31b16f"
      },
      "source": [
        "df_remove_byindex = df.dropna(axis=1, how='all', inplace=False) # --> Drop Missing value\n",
        "# determine if rows or columns which contain missing value are removed.\n",
        "# axis = 0, is index : drop rows which contain missing value\n",
        "# axis = 1, is columns : drop columns which contain missing value\n",
        "df_remove_byindex.shape"
      ],
      "execution_count": null,
      "outputs": [
        {
          "data": {
            "text/plain": "(1080, 78)"
          },
          "execution_count": 249,
          "metadata": {},
          "output_type": "execute_result"
        }
      ]
    },
    {
      "cell_type": "markdown",
      "metadata": {
        "collapsed": false,
        "pycharm": {
          "name": "#%% md\n"
        },
        "id": "bfGGPD8e3n_c"
      },
      "source": [
        "### fill another value to a rows/columns that have missing value"
      ]
    },
    {
      "cell_type": "code",
      "metadata": {
        "pycharm": {
          "name": "#%%\n"
        },
        "id": "VZSe1Hgr3n_c",
        "outputId": "f2bc4bcb-d4bc-4664-bddf-e4625e69fc02"
      },
      "source": [
        "# fill with mean\n",
        "df_fill_withmean = df.fillna(df.mean())\n",
        "df_fill_withmean.isnull().sum()"
      ],
      "execution_count": null,
      "outputs": [
        {
          "name": "stderr",
          "output_type": "stream",
          "text": [
            "/tmp/ipykernel_11189/4104785191.py:2: FutureWarning: Dropping of nuisance columns in DataFrame reductions (with 'numeric_only=None') is deprecated; in a future version this will raise TypeError.  Select only valid columns before calling the reduction.\n",
            "  df_fill_withmean = df.fillna(df.mean())\n"
          ]
        },
        {
          "data": {
            "text/plain": "DYRK1A_N     0\nITSN1_N      0\nBDNF_N       0\nNR1_N        0\nNR2A_N       0\n            ..\nH3AcK18_N    0\nEGR1_N       0\nH3MeK4_N     0\nCaNA_N       0\nTreatment    0\nLength: 78, dtype: int64"
          },
          "execution_count": 250,
          "metadata": {},
          "output_type": "execute_result"
        }
      ]
    },
    {
      "cell_type": "code",
      "metadata": {
        "pycharm": {
          "name": "#%%\n"
        },
        "id": "T20tm29i3n_d",
        "outputId": "824e6b5b-1368-4b8f-aff5-fa578acfdf4a"
      },
      "source": [
        "#fill with median\n",
        "df_fill_withmedian = df.fillna(df.median())\n",
        "df_fill_withmedian.isnull().sum()"
      ],
      "execution_count": null,
      "outputs": [
        {
          "name": "stderr",
          "output_type": "stream",
          "text": [
            "/tmp/ipykernel_11189/4212209564.py:2: FutureWarning: Dropping of nuisance columns in DataFrame reductions (with 'numeric_only=None') is deprecated; in a future version this will raise TypeError.  Select only valid columns before calling the reduction.\n",
            "  df_fill_withmedian = df.fillna(df.median())\n"
          ]
        },
        {
          "data": {
            "text/plain": "DYRK1A_N     0\nITSN1_N      0\nBDNF_N       0\nNR1_N        0\nNR2A_N       0\n            ..\nH3AcK18_N    0\nEGR1_N       0\nH3MeK4_N     0\nCaNA_N       0\nTreatment    0\nLength: 78, dtype: int64"
          },
          "execution_count": 251,
          "metadata": {},
          "output_type": "execute_result"
        }
      ]
    },
    {
      "cell_type": "code",
      "metadata": {
        "pycharm": {
          "name": "#%%\n"
        },
        "id": "TN2yvpg13n_d",
        "outputId": "b79f3024-eec0-4df1-ffda-99fa166abf4b"
      },
      "source": [
        "df = df.fillna(df.mean())"
      ],
      "execution_count": null,
      "outputs": [
        {
          "name": "stderr",
          "output_type": "stream",
          "text": [
            "/tmp/ipykernel_11189/2170423701.py:1: FutureWarning: Dropping of nuisance columns in DataFrame reductions (with 'numeric_only=None') is deprecated; in a future version this will raise TypeError.  Select only valid columns before calling the reduction.\n",
            "  df = df.fillna(df.mean())\n"
          ]
        }
      ]
    },
    {
      "cell_type": "code",
      "metadata": {
        "pycharm": {
          "name": "#%%\n"
        },
        "id": "b9CS4eT03n_e",
        "outputId": "b15a2319-3016-4d83-d5c3-b5170cb6b2e0"
      },
      "source": [
        "df['Treatment'].value_counts()"
      ],
      "execution_count": null,
      "outputs": [
        {
          "data": {
            "text/plain": "Memantine    570\nSaline       510\nName: Treatment, dtype: int64"
          },
          "execution_count": 253,
          "metadata": {},
          "output_type": "execute_result"
        }
      ]
    },
    {
      "cell_type": "code",
      "metadata": {
        "pycharm": {
          "name": "#%%\n"
        },
        "id": "6JEZVB1a3n_e",
        "outputId": "a3b81307-ab05-4bde-adf9-7f6c895a7ef1"
      },
      "source": [
        "df['Treatment'].value_counts().plot(kind='bar', title='Count {target}')"
      ],
      "execution_count": null,
      "outputs": [
        {
          "data": {
            "text/plain": "<AxesSubplot:title={'center':'Count {target}'}>"
          },
          "execution_count": 254,
          "metadata": {},
          "output_type": "execute_result"
        },
        {
          "data": {
            "text/plain": "<Figure size 432x288 with 1 Axes>",
            "image/png": "[encoded data removed]"
          },
          "metadata": {},
          "output_type": "display_data"
        }
      ]
    },
    {
      "cell_type": "markdown",
      "metadata": {
        "collapsed": false,
        "id": "7x6c5K7d3n_f"
      },
      "source": [
        "## Categorical encoding using :\n",
        "### - label Encoding\n",
        "### - One-Hot-Encoder"
      ]
    },
    {
      "cell_type": "markdown",
      "metadata": {
        "collapsed": false,
        "pycharm": {
          "name": "#%% md\n"
        },
        "id": "f8Kynuw-3n_f"
      },
      "source": [
        "1. One-Hot-Encoder"
      ]
    },
    {
      "cell_type": "code",
      "metadata": {
        "pycharm": {
          "name": "#%%\n"
        },
        "id": "mf_AvDia3n_f",
        "outputId": "ec014ea4-6ce2-43d2-a8d4-a2e210f585a2"
      },
      "source": [
        "one_hot_encoded_data = pd.get_dummies(df_fill_withmean, columns = [\"Treatment\"])\n",
        "print(one_hot_encoded_data)"
      ],
      "execution_count": null,
      "outputs": [
        {
          "name": "stdout",
          "output_type": "stream",
          "text": [
            "      DYRK1A_N   ITSN1_N    BDNF_N     NR1_N    NR2A_N    pAKT_N   pBRAF_N  \\\n",
            "0     0.503644  0.747193  0.430175  2.816329  5.990152  0.218830  0.177565   \n",
            "1     0.514617  0.689064  0.411770  2.789514  5.685038  0.211636  0.172817   \n",
            "2     0.509183  0.730247  0.418309  2.687201  5.622059  0.209011  0.175722   \n",
            "3     0.442107  0.617076  0.358626  2.466947  4.979503  0.222886  0.176463   \n",
            "4     0.434940  0.617430  0.358802  2.365785  4.718679  0.213106  0.173627   \n",
            "...        ...       ...       ...       ...       ...       ...       ...   \n",
            "1075  0.254860  0.463591  0.254860  2.092082  2.600035  0.211736  0.171262   \n",
            "1076  0.272198  0.474163  0.251638  2.161390  2.801492  0.251274  0.182496   \n",
            "1077  0.228700  0.395179  0.234118  1.733184  2.220852  0.220665  0.161435   \n",
            "1078  0.221242  0.412894  0.243974  1.876347  2.384088  0.208897  0.173623   \n",
            "1079  0.302626  0.461059  0.256564  2.092790  2.594348  0.251001  0.191811   \n",
            "\n",
            "      pCAMKII_N   pCREB_N    pELK_N  ...    BCL2_N     pS6_N   pCFOS_N  \\\n",
            "0      2.373744  0.232224  1.750936  ...  0.134762  0.106305  0.108336   \n",
            "1      2.292150  0.226972  1.596377  ...  0.134762  0.106592  0.104315   \n",
            "2      2.283337  0.230247  1.561316  ...  0.134762  0.108303  0.106219   \n",
            "3      2.152301  0.207004  1.595086  ...  0.134762  0.103184  0.111262   \n",
            "4      2.134014  0.192158  1.504230  ...  0.134762  0.104784  0.110694   \n",
            "...         ...       ...       ...  ...       ...       ...       ...   \n",
            "1075   2.483740  0.207317  1.057971  ...  0.134762  0.115806  0.183324   \n",
            "1076   2.512737  0.216339  1.081150  ...  0.134762  0.113614  0.175674   \n",
            "1077   1.989723  0.185164  0.884342  ...  0.134762  0.118948  0.158296   \n",
            "1078   2.086028  0.192044  0.922595  ...  0.134762  0.125295  0.196296   \n",
            "1079   2.361816  0.223632  1.064085  ...  0.134762  0.118899  0.187556   \n",
            "\n",
            "         SYP_N  H3AcK18_N    EGR1_N  H3MeK4_N    CaNA_N  Treatment_Memantine  \\\n",
            "0     0.427099   0.114783  0.131790  0.128186  1.675652                    1   \n",
            "1     0.441581   0.111974  0.135103  0.131119  1.743610                    1   \n",
            "2     0.435777   0.111883  0.133362  0.127431  1.926427                    1   \n",
            "3     0.391691   0.130405  0.147444  0.146901  1.700563                    1   \n",
            "4     0.434154   0.118481  0.140314  0.148380  1.839730                    1   \n",
            "...        ...        ...       ...       ...       ...                  ...   \n",
            "1075  0.374088   0.318782  0.204660  0.328327  1.364823                    0   \n",
            "1076  0.375259   0.325639  0.200415  0.293435  1.364478                    0   \n",
            "1077  0.422121   0.321306  0.229193  0.355213  1.430825                    0   \n",
            "1078  0.397676   0.335936  0.251317  0.365353  1.404031                    0   \n",
            "1079  0.420347   0.335062  0.252995  0.365278  1.370999                    0   \n",
            "\n",
            "      Treatment_Saline  \n",
            "0                    0  \n",
            "1                    0  \n",
            "2                    0  \n",
            "3                    0  \n",
            "4                    0  \n",
            "...                ...  \n",
            "1075                 1  \n",
            "1076                 1  \n",
            "1077                 1  \n",
            "1078                 1  \n",
            "1079                 1  \n",
            "\n",
            "[1080 rows x 79 columns]\n"
          ]
        }
      ]
    },
    {
      "cell_type": "markdown",
      "metadata": {
        "collapsed": false,
        "pycharm": {
          "name": "#%% md\n"
        },
        "id": "m30VnKse3n_g"
      },
      "source": [
        "2. Label Encoding"
      ]
    },
    {
      "cell_type": "code",
      "metadata": {
        "pycharm": {
          "name": "#%%\n"
        },
        "id": "SdzwSD_13n_g",
        "outputId": "8c88cc36-80da-4b7a-a25e-f5efdc862572"
      },
      "source": [
        "cleanup_nums = {'Treatment' : {'Memantine' : 1.0, 'Saline' : 2.0}}\n",
        "df.replace(cleanup_nums, inplace=True)\n",
        "df.dtypes"
      ],
      "execution_count": null,
      "outputs": [
        {
          "data": {
            "text/plain": "DYRK1A_N     float64\nITSN1_N      float64\nBDNF_N       float64\nNR1_N        float64\nNR2A_N       float64\n              ...   \nH3AcK18_N    float64\nEGR1_N       float64\nH3MeK4_N     float64\nCaNA_N       float64\nTreatment    float64\nLength: 78, dtype: object"
          },
          "execution_count": 256,
          "metadata": {},
          "output_type": "execute_result"
        }
      ]
    },
    {
      "cell_type": "code",
      "metadata": {
        "pycharm": {
          "name": "#%%\n"
        },
        "id": "NCasW75t3n_h"
      },
      "source": [
        "# separate \"class' with data\n",
        "X = df.iloc[:, :-1]\n",
        "y = df.iloc[:, -1]"
      ],
      "execution_count": null,
      "outputs": []
    },
    {
      "cell_type": "code",
      "metadata": {
        "pycharm": {
          "name": "#%%\n"
        },
        "id": "ay8LXNa53n_h",
        "outputId": "d269cc93-d748-4f42-d540-296be95d0902"
      },
      "source": [
        "X"
      ],
      "execution_count": null,
      "outputs": [
        {
          "data": {
            "text/plain": "      DYRK1A_N   ITSN1_N    BDNF_N     NR1_N    NR2A_N    pAKT_N   pBRAF_N  \\\n0     0.503644  0.747193  0.430175  2.816329  5.990152  0.218830  0.177565   \n1     0.514617  0.689064  0.411770  2.789514  5.685038  0.211636  0.172817   \n2     0.509183  0.730247  0.418309  2.687201  5.622059  0.209011  0.175722   \n3     0.442107  0.617076  0.358626  2.466947  4.979503  0.222886  0.176463   \n4     0.434940  0.617430  0.358802  2.365785  4.718679  0.213106  0.173627   \n...        ...       ...       ...       ...       ...       ...       ...   \n1075  0.254860  0.463591  0.254860  2.092082  2.600035  0.211736  0.171262   \n1076  0.272198  0.474163  0.251638  2.161390  2.801492  0.251274  0.182496   \n1077  0.228700  0.395179  0.234118  1.733184  2.220852  0.220665  0.161435   \n1078  0.221242  0.412894  0.243974  1.876347  2.384088  0.208897  0.173623   \n1079  0.302626  0.461059  0.256564  2.092790  2.594348  0.251001  0.191811   \n\n      pCAMKII_N   pCREB_N    pELK_N  ...     SHH_N     BAD_N    BCL2_N  \\\n0      2.373744  0.232224  1.750936  ...  0.188852  0.122652  0.134762   \n1      2.292150  0.226972  1.596377  ...  0.200404  0.116682  0.134762   \n2      2.283337  0.230247  1.561316  ...  0.193685  0.118508  0.134762   \n3      2.152301  0.207004  1.595086  ...  0.192112  0.132781  0.134762   \n4      2.134014  0.192158  1.504230  ...  0.205604  0.129954  0.134762   \n...         ...       ...       ...  ...       ...       ...       ...   \n1075   2.483740  0.207317  1.057971  ...  0.275547  0.190483  0.134762   \n1076   2.512737  0.216339  1.081150  ...  0.283207  0.190463  0.134762   \n1077   1.989723  0.185164  0.884342  ...  0.290843  0.216682  0.134762   \n1078   2.086028  0.192044  0.922595  ...  0.306701  0.222263  0.134762   \n1079   2.361816  0.223632  1.064085  ...  0.292330  0.227606  0.134762   \n\n         pS6_N   pCFOS_N     SYP_N  H3AcK18_N    EGR1_N  H3MeK4_N    CaNA_N  \n0     0.106305  0.108336  0.427099   0.114783  0.131790  0.128186  1.675652  \n1     0.106592  0.104315  0.441581   0.111974  0.135103  0.131119  1.743610  \n2     0.108303  0.106219  0.435777   0.111883  0.133362  0.127431  1.926427  \n3     0.103184  0.111262  0.391691   0.130405  0.147444  0.146901  1.700563  \n4     0.104784  0.110694  0.434154   0.118481  0.140314  0.148380  1.839730  \n...        ...       ...       ...        ...       ...       ...       ...  \n1075  0.115806  0.183324  0.374088   0.318782  0.204660  0.328327  1.364823  \n1076  0.113614  0.175674  0.375259   0.325639  0.200415  0.293435  1.364478  \n1077  0.118948  0.158296  0.422121   0.321306  0.229193  0.355213  1.430825  \n1078  0.125295  0.196296  0.397676   0.335936  0.251317  0.365353  1.404031  \n1079  0.118899  0.187556  0.420347   0.335062  0.252995  0.365278  1.370999  \n\n[1080 rows x 77 columns]",
            "text/html": "<div>\n<style scoped>\n    .dataframe tbody tr th:only-of-type {\n        vertical-align: middle;\n    }\n\n    .dataframe tbody tr th {\n        vertical-align: top;\n    }\n\n    .dataframe thead th {\n        text-align: right;\n    }\n</style>\n<table border=\"1\" class=\"dataframe\">\n  <thead>\n    <tr style=\"text-align: right;\">\n      <th></th>\n      <th>DYRK1A_N</th>\n      <th>ITSN1_N</th>\n      <th>BDNF_N</th>\n      <th>NR1_N</th>\n      <th>NR2A_N</th>\n      <th>pAKT_N</th>\n      <th>pBRAF_N</th>\n      <th>pCAMKII_N</th>\n      <th>pCREB_N</th>\n      <th>pELK_N</th>\n      <th>...</th>\n      <th>SHH_N</th>\n      <th>BAD_N</th>\n      <th>BCL2_N</th>\n      <th>pS6_N</th>\n      <th>pCFOS_N</th>\n      <th>SYP_N</th>\n      <th>H3AcK18_N</th>\n      <th>EGR1_N</th>\n      <th>H3MeK4_N</th>\n      <th>CaNA_N</th>\n    </tr>\n  </thead>\n  <tbody>\n    <tr>\n      <th>0</th>\n      <td>0.503644</td>\n      <td>0.747193</td>\n      <td>0.430175</td>\n      <td>2.816329</td>\n      <td>5.990152</td>\n      <td>0.218830</td>\n      <td>0.177565</td>\n      <td>2.373744</td>\n      <td>0.232224</td>\n      <td>1.750936</td>\n      <td>...</td>\n      <td>0.188852</td>\n      <td>0.122652</td>\n      <td>0.134762</td>\n      <td>0.106305</td>\n      <td>0.108336</td>\n      <td>0.427099</td>\n      <td>0.114783</td>\n      <td>0.131790</td>\n      <td>0.128186</td>\n      <td>1.675652</td>\n    </tr>\n    <tr>\n      <th>1</th>\n      <td>0.514617</td>\n      <td>0.689064</td>\n      <td>0.411770</td>\n      <td>2.789514</td>\n      <td>5.685038</td>\n      <td>0.211636</td>\n      <td>0.172817</td>\n      <td>2.292150</td>\n      <td>0.226972</td>\n      <td>1.596377</td>\n      <td>...</td>\n      <td>0.200404</td>\n      <td>0.116682</td>\n      <td>0.134762</td>\n      <td>0.106592</td>\n      <td>0.104315</td>\n      <td>0.441581</td>\n      <td>0.111974</td>\n      <td>0.135103</td>\n      <td>0.131119</td>\n      <td>1.743610</td>\n    </tr>\n    <tr>\n      <th>2</th>\n      <td>0.509183</td>\n      <td>0.730247</td>\n      <td>0.418309</td>\n      <td>2.687201</td>\n      <td>5.622059</td>\n      <td>0.209011</td>\n      <td>0.175722</td>\n      <td>2.283337</td>\n      <td>0.230247</td>\n      <td>1.561316</td>\n      <td>...</td>\n      <td>0.193685</td>\n      <td>0.118508</td>\n      <td>0.134762</td>\n      <td>0.108303</td>\n      <td>0.106219</td>\n      <td>0.435777</td>\n      <td>0.111883</td>\n      <td>0.133362</td>\n      <td>0.127431</td>\n      <td>1.926427</td>\n    </tr>\n    <tr>\n      <th>3</th>\n      <td>0.442107</td>\n      <td>0.617076</td>\n      <td>0.358626</td>\n      <td>2.466947</td>\n      <td>4.979503</td>\n      <td>0.222886</td>\n      <td>0.176463</td>\n      <td>2.152301</td>\n      <td>0.207004</td>\n      <td>1.595086</td>\n      <td>...</td>\n      <td>0.192112</td>\n      <td>0.132781</td>\n      <td>0.134762</td>\n      <td>0.103184</td>\n      <td>0.111262</td>\n      <td>0.391691</td>\n      <td>0.130405</td>\n      <td>0.147444</td>\n      <td>0.146901</td>\n      <td>1.700563</td>\n    </tr>\n    <tr>\n      <th>4</th>\n      <td>0.434940</td>\n      <td>0.617430</td>\n      <td>0.358802</td>\n      <td>2.365785</td>\n      <td>4.718679</td>\n      <td>0.213106</td>\n      <td>0.173627</td>\n      <td>2.134014</td>\n      <td>0.192158</td>\n      <td>1.504230</td>\n      <td>...</td>\n      <td>0.205604</td>\n      <td>0.129954</td>\n      <td>0.134762</td>\n      <td>0.104784</td>\n      <td>0.110694</td>\n      <td>0.434154</td>\n      <td>0.118481</td>\n      <td>0.140314</td>\n      <td>0.148380</td>\n      <td>1.839730</td>\n    </tr>\n    <tr>\n      <th>...</th>\n      <td>...</td>\n      <td>...</td>\n      <td>...</td>\n      <td>...</td>\n      <td>...</td>\n      <td>...</td>\n      <td>...</td>\n      <td>...</td>\n      <td>...</td>\n      <td>...</td>\n      <td>...</td>\n      <td>...</td>\n      <td>...</td>\n      <td>...</td>\n      <td>...</td>\n      <td>...</td>\n      <td>...</td>\n      <td>...</td>\n      <td>...</td>\n      <td>...</td>\n      <td>...</td>\n    </tr>\n    <tr>\n      <th>1075</th>\n      <td>0.254860</td>\n      <td>0.463591</td>\n      <td>0.254860</td>\n      <td>2.092082</td>\n      <td>2.600035</td>\n      <td>0.211736</td>\n      <td>0.171262</td>\n      <td>2.483740</td>\n      <td>0.207317</td>\n      <td>1.057971</td>\n      <td>...</td>\n      <td>0.275547</td>\n      <td>0.190483</td>\n      <td>0.134762</td>\n      <td>0.115806</td>\n      <td>0.183324</td>\n      <td>0.374088</td>\n      <td>0.318782</td>\n      <td>0.204660</td>\n      <td>0.328327</td>\n      <td>1.364823</td>\n    </tr>\n    <tr>\n      <th>1076</th>\n      <td>0.272198</td>\n      <td>0.474163</td>\n      <td>0.251638</td>\n      <td>2.161390</td>\n      <td>2.801492</td>\n      <td>0.251274</td>\n      <td>0.182496</td>\n      <td>2.512737</td>\n      <td>0.216339</td>\n      <td>1.081150</td>\n      <td>...</td>\n      <td>0.283207</td>\n      <td>0.190463</td>\n      <td>0.134762</td>\n      <td>0.113614</td>\n      <td>0.175674</td>\n      <td>0.375259</td>\n      <td>0.325639</td>\n      <td>0.200415</td>\n      <td>0.293435</td>\n      <td>1.364478</td>\n    </tr>\n    <tr>\n      <th>1077</th>\n      <td>0.228700</td>\n      <td>0.395179</td>\n      <td>0.234118</td>\n      <td>1.733184</td>\n      <td>2.220852</td>\n      <td>0.220665</td>\n      <td>0.161435</td>\n      <td>1.989723</td>\n      <td>0.185164</td>\n      <td>0.884342</td>\n      <td>...</td>\n      <td>0.290843</td>\n      <td>0.216682</td>\n      <td>0.134762</td>\n      <td>0.118948</td>\n      <td>0.158296</td>\n      <td>0.422121</td>\n      <td>0.321306</td>\n      <td>0.229193</td>\n      <td>0.355213</td>\n      <td>1.430825</td>\n    </tr>\n    <tr>\n      <th>1078</th>\n      <td>0.221242</td>\n      <td>0.412894</td>\n      <td>0.243974</td>\n      <td>1.876347</td>\n      <td>2.384088</td>\n      <td>0.208897</td>\n      <td>0.173623</td>\n      <td>2.086028</td>\n      <td>0.192044</td>\n      <td>0.922595</td>\n      <td>...</td>\n      <td>0.306701</td>\n      <td>0.222263</td>\n      <td>0.134762</td>\n      <td>0.125295</td>\n      <td>0.196296</td>\n      <td>0.397676</td>\n      <td>0.335936</td>\n      <td>0.251317</td>\n      <td>0.365353</td>\n      <td>1.404031</td>\n    </tr>\n    <tr>\n      <th>1079</th>\n      <td>0.302626</td>\n      <td>0.461059</td>\n      <td>0.256564</td>\n      <td>2.092790</td>\n      <td>2.594348</td>\n      <td>0.251001</td>\n      <td>0.191811</td>\n      <td>2.361816</td>\n      <td>0.223632</td>\n      <td>1.064085</td>\n      <td>...</td>\n      <td>0.292330</td>\n      <td>0.227606</td>\n      <td>0.134762</td>\n      <td>0.118899</td>\n      <td>0.187556</td>\n      <td>0.420347</td>\n      <td>0.335062</td>\n      <td>0.252995</td>\n      <td>0.365278</td>\n      <td>1.370999</td>\n    </tr>\n  </tbody>\n</table>\n<p>1080 rows × 77 columns</p>\n</div>"
          },
          "execution_count": 258,
          "metadata": {},
          "output_type": "execute_result"
        }
      ]
    },
    {
      "cell_type": "code",
      "metadata": {
        "pycharm": {
          "name": "#%%\n"
        },
        "id": "2l-sl0ju3n_h"
      },
      "source": [
        "column_name = list(X.columns)"
      ],
      "execution_count": null,
      "outputs": []
    },
    {
      "cell_type": "markdown",
      "metadata": {
        "collapsed": false,
        "pycharm": {
          "name": "#%% md\n"
        },
        "id": "DlDYtEEX3n_i"
      },
      "source": [
        "## Normalization\n",
        "normalisasi dibutuhkan apabila setiap atribut/variabel memiliki range nilai tertentu yang tidak sama untuk setiap feature.\n",
        "ini bertujuan untuk menyeragamkan data agar saat diolah, datanya tidak terlalu jauh range nya"
      ]
    },
    {
      "cell_type": "markdown",
      "metadata": {
        "collapsed": false,
        "pycharm": {
          "name": "#%% md\n"
        },
        "id": "n5-d0U4K3n_i"
      },
      "source": [
        "1. Z-Score : berdasarkan standar deviasi"
      ]
    },
    {
      "cell_type": "code",
      "metadata": {
        "pycharm": {
          "name": "#%%\n"
        },
        "id": "TCxQLUru3n_i",
        "outputId": "7a7dc02d-1918-457b-8468-03ce3dae535f"
      },
      "source": [
        "from sklearn.preprocessing import StandardScaler\n",
        "\n",
        "# create a scaler object\n",
        "std_scaler = StandardScaler()\n",
        "\n",
        "# fit\n",
        "df_std = pd.DataFrame(std_scaler.fit_transform(df), columns=df.columns)\n",
        "\n",
        "df_std"
      ],
      "execution_count": null,
      "outputs": [
        {
          "data": {
            "text/plain": "      DYRK1A_N   ITSN1_N    BDNF_N     NR1_N    NR2A_N    pAKT_N   pBRAF_N  \\\n0     0.312711  0.517934  2.253669  1.497362  2.304365 -0.345019 -0.158601   \n1     0.356798  0.286501  1.880279  1.420009  1.976769 -0.518126 -0.334523   \n2     0.334966  0.450465  2.012928  1.124860  1.909149 -0.581298 -0.226891   \n3     0.065474 -0.000103  0.802123  0.489481  1.219245 -0.247424 -0.199461   \n4     0.036682  0.001305  0.805692  0.197652  0.939202 -0.482759 -0.304516   \n...        ...       ...       ...       ...       ...       ...       ...   \n1075 -0.686822 -0.611173 -1.303022 -0.591916 -1.335557 -0.515734 -0.392136   \n1076 -0.617165 -0.569084 -1.368405 -0.391978 -1.119256  0.435677  0.024078   \n1077 -0.791928 -0.883543 -1.723830 -1.627251 -1.742681 -0.300860 -0.756205   \n1078 -0.821888 -0.813014 -1.523876 -1.214259 -1.567417 -0.584046 -0.304649   \n1079 -0.494916 -0.621255 -1.268453 -0.589872 -1.341664  0.429124  0.369178   \n\n      pCAMKII_N   pCREB_N    pELK_N  ...     BAD_N  BCL2_N     pS6_N  \\\n0     -0.899902  0.604115  0.691475  ... -1.333224     0.0 -1.066276   \n1     -0.963018  0.442658  0.359831  ... -1.558938     0.0 -1.046167   \n2     -0.969835  0.543335  0.284600  ... -1.489897     0.0 -0.926271   \n3     -1.071196 -0.171236  0.357061  ... -0.950252     0.0 -1.285019   \n4     -1.085341 -0.627671  0.162107  ... -1.057141     0.0 -1.172895   \n...         ...       ...       ...  ...       ...     ...       ...   \n1075  -0.814816 -0.161617 -0.795452  ...  1.231384     0.0 -0.400501   \n1076  -0.792387  0.115758 -0.745716  ...  1.230633     0.0 -0.554066   \n1077  -1.196955 -0.842679 -1.168015  ...  2.221935     0.0 -0.180275   \n1078  -1.122460 -0.631176 -1.085935  ...  2.432939     0.0  0.264492   \n1079  -0.909129  0.339955 -0.782332  ...  2.634965     0.0 -0.183757   \n\n       pCFOS_N     SYP_N  H3AcK18_N    EGR1_N  H3MeK4_N    CaNA_N  Treatment  \n0    -0.987371 -0.285744  -1.011615 -1.416624 -1.607891  1.065901  -0.945905  \n1    -1.162114 -0.067645  -1.063458 -1.325218 -1.546844  1.280291  -0.945905  \n2    -1.079366 -0.155059  -1.065130 -1.373257 -1.623595  1.857038  -0.945905  \n3    -0.860192 -0.818989  -0.723367 -0.984718 -1.218364  1.144490  -0.945905  \n4    -0.884881 -0.179502  -0.943378 -1.181435 -1.187585  1.583530  -0.945905  \n...        ...       ...        ...       ...       ...       ...        ...  \n1075  2.271885 -1.084095   2.752434  0.593908  2.557657  0.085303   1.057188  \n1076  1.939381 -1.066451   2.878967  0.476768  1.831447  0.084215   1.057188  \n1077  1.184059 -0.360708   2.799004  1.270782  3.117243  0.293525   1.057188  \n1078  2.835680 -0.728860   3.068958  1.881179  3.328290  0.208996   1.057188  \n1079  2.455819 -0.387434   3.052824  1.927484  3.326725  0.104788   1.057188  \n\n[1080 rows x 78 columns]",
            "text/html": "<div>\n<style scoped>\n    .dataframe tbody tr th:only-of-type {\n        vertical-align: middle;\n    }\n\n    .dataframe tbody tr th {\n        vertical-align: top;\n    }\n\n    .dataframe thead th {\n        text-align: right;\n    }\n</style>\n<table border=\"1\" class=\"dataframe\">\n  <thead>\n    <tr style=\"text-align: right;\">\n      <th></th>\n      <th>DYRK1A_N</th>\n      <th>ITSN1_N</th>\n      <th>BDNF_N</th>\n      <th>NR1_N</th>\n      <th>NR2A_N</th>\n      <th>pAKT_N</th>\n      <th>pBRAF_N</th>\n      <th>pCAMKII_N</th>\n      <th>pCREB_N</th>\n      <th>pELK_N</th>\n      <th>...</th>\n      <th>BAD_N</th>\n      <th>BCL2_N</th>\n      <th>pS6_N</th>\n      <th>pCFOS_N</th>\n      <th>SYP_N</th>\n      <th>H3AcK18_N</th>\n      <th>EGR1_N</th>\n      <th>H3MeK4_N</th>\n      <th>CaNA_N</th>\n      <th>Treatment</th>\n    </tr>\n  </thead>\n  <tbody>\n    <tr>\n      <th>0</th>\n      <td>0.312711</td>\n      <td>0.517934</td>\n      <td>2.253669</td>\n      <td>1.497362</td>\n      <td>2.304365</td>\n      <td>-0.345019</td>\n      <td>-0.158601</td>\n      <td>-0.899902</td>\n      <td>0.604115</td>\n      <td>0.691475</td>\n      <td>...</td>\n      <td>-1.333224</td>\n      <td>0.0</td>\n      <td>-1.066276</td>\n      <td>-0.987371</td>\n      <td>-0.285744</td>\n      <td>-1.011615</td>\n      <td>-1.416624</td>\n      <td>-1.607891</td>\n      <td>1.065901</td>\n      <td>-0.945905</td>\n    </tr>\n    <tr>\n      <th>1</th>\n      <td>0.356798</td>\n      <td>0.286501</td>\n      <td>1.880279</td>\n      <td>1.420009</td>\n      <td>1.976769</td>\n      <td>-0.518126</td>\n      <td>-0.334523</td>\n      <td>-0.963018</td>\n      <td>0.442658</td>\n      <td>0.359831</td>\n      <td>...</td>\n      <td>-1.558938</td>\n      <td>0.0</td>\n      <td>-1.046167</td>\n      <td>-1.162114</td>\n      <td>-0.067645</td>\n      <td>-1.063458</td>\n      <td>-1.325218</td>\n      <td>-1.546844</td>\n      <td>1.280291</td>\n      <td>-0.945905</td>\n    </tr>\n    <tr>\n      <th>2</th>\n      <td>0.334966</td>\n      <td>0.450465</td>\n      <td>2.012928</td>\n      <td>1.124860</td>\n      <td>1.909149</td>\n      <td>-0.581298</td>\n      <td>-0.226891</td>\n      <td>-0.969835</td>\n      <td>0.543335</td>\n      <td>0.284600</td>\n      <td>...</td>\n      <td>-1.489897</td>\n      <td>0.0</td>\n      <td>-0.926271</td>\n      <td>-1.079366</td>\n      <td>-0.155059</td>\n      <td>-1.065130</td>\n      <td>-1.373257</td>\n      <td>-1.623595</td>\n      <td>1.857038</td>\n      <td>-0.945905</td>\n    </tr>\n    <tr>\n      <th>3</th>\n      <td>0.065474</td>\n      <td>-0.000103</td>\n      <td>0.802123</td>\n      <td>0.489481</td>\n      <td>1.219245</td>\n      <td>-0.247424</td>\n      <td>-0.199461</td>\n      <td>-1.071196</td>\n      <td>-0.171236</td>\n      <td>0.357061</td>\n      <td>...</td>\n      <td>-0.950252</td>\n      <td>0.0</td>\n      <td>-1.285019</td>\n      <td>-0.860192</td>\n      <td>-0.818989</td>\n      <td>-0.723367</td>\n      <td>-0.984718</td>\n      <td>-1.218364</td>\n      <td>1.144490</td>\n      <td>-0.945905</td>\n    </tr>\n    <tr>\n      <th>4</th>\n      <td>0.036682</td>\n      <td>0.001305</td>\n      <td>0.805692</td>\n      <td>0.197652</td>\n      <td>0.939202</td>\n      <td>-0.482759</td>\n      <td>-0.304516</td>\n      <td>-1.085341</td>\n      <td>-0.627671</td>\n      <td>0.162107</td>\n      <td>...</td>\n      <td>-1.057141</td>\n      <td>0.0</td>\n      <td>-1.172895</td>\n      <td>-0.884881</td>\n      <td>-0.179502</td>\n      <td>-0.943378</td>\n      <td>-1.181435</td>\n      <td>-1.187585</td>\n      <td>1.583530</td>\n      <td>-0.945905</td>\n    </tr>\n    <tr>\n      <th>...</th>\n      <td>...</td>\n      <td>...</td>\n      <td>...</td>\n      <td>...</td>\n      <td>...</td>\n      <td>...</td>\n      <td>...</td>\n      <td>...</td>\n      <td>...</td>\n      <td>...</td>\n      <td>...</td>\n      <td>...</td>\n      <td>...</td>\n      <td>...</td>\n      <td>...</td>\n      <td>...</td>\n      <td>...</td>\n      <td>...</td>\n      <td>...</td>\n      <td>...</td>\n      <td>...</td>\n    </tr>\n    <tr>\n      <th>1075</th>\n      <td>-0.686822</td>\n      <td>-0.611173</td>\n      <td>-1.303022</td>\n      <td>-0.591916</td>\n      <td>-1.335557</td>\n      <td>-0.515734</td>\n      <td>-0.392136</td>\n      <td>-0.814816</td>\n      <td>-0.161617</td>\n      <td>-0.795452</td>\n      <td>...</td>\n      <td>1.231384</td>\n      <td>0.0</td>\n      <td>-0.400501</td>\n      <td>2.271885</td>\n      <td>-1.084095</td>\n      <td>2.752434</td>\n      <td>0.593908</td>\n      <td>2.557657</td>\n      <td>0.085303</td>\n      <td>1.057188</td>\n    </tr>\n    <tr>\n      <th>1076</th>\n      <td>-0.617165</td>\n      <td>-0.569084</td>\n      <td>-1.368405</td>\n      <td>-0.391978</td>\n      <td>-1.119256</td>\n      <td>0.435677</td>\n      <td>0.024078</td>\n      <td>-0.792387</td>\n      <td>0.115758</td>\n      <td>-0.745716</td>\n      <td>...</td>\n      <td>1.230633</td>\n      <td>0.0</td>\n      <td>-0.554066</td>\n      <td>1.939381</td>\n      <td>-1.066451</td>\n      <td>2.878967</td>\n      <td>0.476768</td>\n      <td>1.831447</td>\n      <td>0.084215</td>\n      <td>1.057188</td>\n    </tr>\n    <tr>\n      <th>1077</th>\n      <td>-0.791928</td>\n      <td>-0.883543</td>\n      <td>-1.723830</td>\n      <td>-1.627251</td>\n      <td>-1.742681</td>\n      <td>-0.300860</td>\n      <td>-0.756205</td>\n      <td>-1.196955</td>\n      <td>-0.842679</td>\n      <td>-1.168015</td>\n      <td>...</td>\n      <td>2.221935</td>\n      <td>0.0</td>\n      <td>-0.180275</td>\n      <td>1.184059</td>\n      <td>-0.360708</td>\n      <td>2.799004</td>\n      <td>1.270782</td>\n      <td>3.117243</td>\n      <td>0.293525</td>\n      <td>1.057188</td>\n    </tr>\n    <tr>\n      <th>1078</th>\n      <td>-0.821888</td>\n      <td>-0.813014</td>\n      <td>-1.523876</td>\n      <td>-1.214259</td>\n      <td>-1.567417</td>\n      <td>-0.584046</td>\n      <td>-0.304649</td>\n      <td>-1.122460</td>\n      <td>-0.631176</td>\n      <td>-1.085935</td>\n      <td>...</td>\n      <td>2.432939</td>\n      <td>0.0</td>\n      <td>0.264492</td>\n      <td>2.835680</td>\n      <td>-0.728860</td>\n      <td>3.068958</td>\n      <td>1.881179</td>\n      <td>3.328290</td>\n      <td>0.208996</td>\n      <td>1.057188</td>\n    </tr>\n    <tr>\n      <th>1079</th>\n      <td>-0.494916</td>\n      <td>-0.621255</td>\n      <td>-1.268453</td>\n      <td>-0.589872</td>\n      <td>-1.341664</td>\n      <td>0.429124</td>\n      <td>0.369178</td>\n      <td>-0.909129</td>\n      <td>0.339955</td>\n      <td>-0.782332</td>\n      <td>...</td>\n      <td>2.634965</td>\n      <td>0.0</td>\n      <td>-0.183757</td>\n      <td>2.455819</td>\n      <td>-0.387434</td>\n      <td>3.052824</td>\n      <td>1.927484</td>\n      <td>3.326725</td>\n      <td>0.104788</td>\n      <td>1.057188</td>\n    </tr>\n  </tbody>\n</table>\n<p>1080 rows × 78 columns</p>\n</div>"
          },
          "execution_count": 260,
          "metadata": {},
          "output_type": "execute_result"
        }
      ]
    },
    {
      "cell_type": "markdown",
      "metadata": {
        "collapsed": false,
        "id": "9zZg_Bu23n_j"
      },
      "source": [
        "2. Min-Max Scaler : samakan nilai minimun dengan maximum dari setiap nilai yang ada pada seluruh atribut"
      ]
    },
    {
      "cell_type": "code",
      "metadata": {
        "pycharm": {
          "name": "#%%\n"
        },
        "id": "o3BU2Ohc3n_j",
        "outputId": "dc956504-2cb9-42d8-8fe9-b145d477ecb3"
      },
      "source": [
        "# Before\n",
        "print('Min: ', X.min(axis=0))\n",
        "print('Max: ', X.max(axis=0))"
      ],
      "execution_count": null,
      "outputs": [
        {
          "name": "stdout",
          "output_type": "stream",
          "text": [
            "Min:  DYRK1A_N     0.145327\n",
            "ITSN1_N      0.245359\n",
            "BDNF_N       0.115181\n",
            "NR1_N        1.330831\n",
            "NR2A_N       1.737540\n",
            "               ...   \n",
            "SYP_N        0.258626\n",
            "H3AcK18_N    0.079691\n",
            "EGR1_N       0.105537\n",
            "H3MeK4_N     0.101787\n",
            "CaNA_N       0.586479\n",
            "Length: 77, dtype: float64\n",
            "Max:  DYRK1A_N     2.516367\n",
            "ITSN1_N      2.602662\n",
            "BDNF_N       0.497160\n",
            "NR1_N        3.757641\n",
            "NR2A_N       8.482553\n",
            "               ...   \n",
            "SYP_N        0.759588\n",
            "H3AcK18_N    0.479763\n",
            "EGR1_N       0.360692\n",
            "H3MeK4_N     0.413903\n",
            "CaNA_N       2.129791\n",
            "Length: 77, dtype: float64\n"
          ]
        }
      ]
    },
    {
      "cell_type": "code",
      "metadata": {
        "pycharm": {
          "name": "#%%\n"
        },
        "id": "EPKYNbkR3n_k"
      },
      "source": [
        "from sklearn.preprocessing import MinMaxScaler\n",
        "scaler = MinMaxScaler()\n",
        "data_scaled = scaler.fit_transform(X)"
      ],
      "execution_count": null,
      "outputs": []
    },
    {
      "cell_type": "code",
      "metadata": {
        "pycharm": {
          "name": "#%%\n"
        },
        "id": "FYnBNDt_3n_k",
        "outputId": "331ecba4-f1fa-4457-ad9e-e1b1c93aad35"
      },
      "source": [
        "# After\n",
        "print('Min: ', data_scaled.min(axis=0))\n",
        "print('Max: ', data_scaled.max(axis=0))"
      ],
      "execution_count": null,
      "outputs": [
        {
          "name": "stdout",
          "output_type": "stream",
          "text": [
            "Min:  [0. 0. 0. 0. 0. 0. 0. 0. 0. 0. 0. 0. 0. 0. 0. 0. 0. 0. 0. 0. 0. 0. 0. 0.\n",
            " 0. 0. 0. 0. 0. 0. 0. 0. 0. 0. 0. 0. 0. 0. 0. 0. 0. 0. 0. 0. 0. 0. 0. 0.\n",
            " 0. 0. 0. 0. 0. 0. 0. 0. 0. 0. 0. 0. 0. 0. 0. 0. 0. 0. 0. 0. 0. 0. 0. 0.\n",
            " 0. 0. 0. 0. 0.]\n",
            "Max:  [1. 1. 1. 1. 1. 1. 1. 1. 1. 1. 1. 1. 1. 1. 1. 1. 1. 1. 1. 1. 1. 1. 1. 1.\n",
            " 1. 1. 1. 1. 1. 1. 1. 1. 1. 1. 1. 1. 1. 1. 1. 1. 1. 1. 1. 1. 1. 1. 1. 1.\n",
            " 1. 1. 1. 1. 1. 1. 1. 1. 1. 1. 1. 1. 1. 1. 1. 1. 1. 1. 1. 1. 1. 1. 1. 1.\n",
            " 1. 1. 1. 1. 1.]\n"
          ]
        }
      ]
    },
    {
      "cell_type": "code",
      "metadata": {
        "pycharm": {
          "name": "#%%\n"
        },
        "id": "Sh5lZB7S3n_k"
      },
      "source": [
        "# update data\n",
        "df = pd.DataFrame(data=data_scaled, columns=column_name)"
      ],
      "execution_count": null,
      "outputs": []
    },
    {
      "cell_type": "code",
      "metadata": {
        "pycharm": {
          "name": "#%%\n"
        },
        "id": "gDFZfx5T3n_l",
        "outputId": "4b1ce671-4269-4e08-9fcc-7936452756c4"
      },
      "source": [
        "df.describe()"
      ],
      "execution_count": null,
      "outputs": [
        {
          "data": {
            "text/plain": "          DYRK1A_N      ITSN1_N       BDNF_N        NR1_N       NR2A_N  \\\ncount  1080.000000  1080.000000  1080.000000  1080.000000  1080.000000   \nmean      0.118296     0.157699     0.533818     0.398234     0.312289   \nstd       0.105024     0.106601     0.129103     0.142908     0.138147   \nmin       0.000000     0.000000     0.000000     0.000000     0.000000   \n25%       0.060242     0.096852     0.451515     0.300115     0.210933   \n50%       0.093298     0.136175     0.527572     0.398234     0.300335   \n75%       0.144345     0.191805     0.609609     0.493324     0.398452   \nmax       1.000000     1.000000     1.000000     1.000000     1.000000   \n\n            pAKT_N      pBRAF_N    pCAMKII_N      pCREB_N       pELK_N  ...  \\\ncount  1080.000000  1080.000000  1080.000000  1080.000000  1080.000000  ...   \nmean      0.357140     0.465586     0.358347     0.515739     0.175861  ...   \nstd       0.087380     0.106727     0.211332     0.168230     0.082025  ...   \nmin       0.000000     0.000000     0.000000     0.000000     0.000000  ...   \n25%       0.299665     0.397498     0.185596     0.403317     0.136755  ...   \n50%       0.353100     0.467258     0.324445     0.505952     0.163139  ...   \n75%       0.407698     0.526370     0.512519     0.629388     0.199127  ...   \nmax       1.000000     1.000000     1.000000     1.000000     1.000000  ...   \n\n             SHH_N        BAD_N       BCL2_N        pS6_N      pCFOS_N  \\\ncount  1080.000000  1080.000000  1080.000000  1080.000000  1080.000000   \nmean      0.349804     0.359346     0.299172     0.593119     0.266694   \nstd       0.143213     0.136600     0.130048     0.156038     0.134524   \nmin       0.000000     0.000000     0.000000     0.000000     0.000000   \n25%       0.249611     0.272264     0.217472     0.476368     0.169213   \n50%       0.336580     0.359346     0.299172     0.594273     0.251577   \n75%       0.423804     0.409264     0.324439     0.707167     0.333168   \nmax       1.000000     1.000000     1.000000     1.000000     1.000000   \n\n             SYP_N    H3AcK18_N       EGR1_N     H3MeK4_N       CaNA_N  \ncount  1080.000000  1080.000000  1080.000000  1080.000000  1080.000000  \nmean      0.374174     0.224755     0.304119     0.332097     0.486813  \nstd       0.132609     0.135530     0.142114     0.154010     0.205484  \nmin       0.000000     0.000000     0.000000     0.000000     0.000000  \n25%       0.278377     0.135671     0.210190     0.232233     0.320702  \n50%       0.378936     0.224755     0.304119     0.332097     0.473632  \n75%       0.463402     0.268658     0.355063     0.376319     0.647532  \nmax       1.000000     1.000000     1.000000     1.000000     1.000000  \n\n[8 rows x 77 columns]",
            "text/html": "<div>\n<style scoped>\n    .dataframe tbody tr th:only-of-type {\n        vertical-align: middle;\n    }\n\n    .dataframe tbody tr th {\n        vertical-align: top;\n    }\n\n    .dataframe thead th {\n        text-align: right;\n    }\n</style>\n<table border=\"1\" class=\"dataframe\">\n  <thead>\n    <tr style=\"text-align: right;\">\n      <th></th>\n      <th>DYRK1A_N</th>\n      <th>ITSN1_N</th>\n      <th>BDNF_N</th>\n      <th>NR1_N</th>\n      <th>NR2A_N</th>\n      <th>pAKT_N</th>\n      <th>pBRAF_N</th>\n      <th>pCAMKII_N</th>\n      <th>pCREB_N</th>\n      <th>pELK_N</th>\n      <th>...</th>\n      <th>SHH_N</th>\n      <th>BAD_N</th>\n      <th>BCL2_N</th>\n      <th>pS6_N</th>\n      <th>pCFOS_N</th>\n      <th>SYP_N</th>\n      <th>H3AcK18_N</th>\n      <th>EGR1_N</th>\n      <th>H3MeK4_N</th>\n      <th>CaNA_N</th>\n    </tr>\n  </thead>\n  <tbody>\n    <tr>\n      <th>count</th>\n      <td>1080.000000</td>\n      <td>1080.000000</td>\n      <td>1080.000000</td>\n      <td>1080.000000</td>\n      <td>1080.000000</td>\n      <td>1080.000000</td>\n      <td>1080.000000</td>\n      <td>1080.000000</td>\n      <td>1080.000000</td>\n      <td>1080.000000</td>\n      <td>...</td>\n      <td>1080.000000</td>\n      <td>1080.000000</td>\n      <td>1080.000000</td>\n      <td>1080.000000</td>\n      <td>1080.000000</td>\n      <td>1080.000000</td>\n      <td>1080.000000</td>\n      <td>1080.000000</td>\n      <td>1080.000000</td>\n      <td>1080.000000</td>\n    </tr>\n    <tr>\n      <th>mean</th>\n      <td>0.118296</td>\n      <td>0.157699</td>\n      <td>0.533818</td>\n      <td>0.398234</td>\n      <td>0.312289</td>\n      <td>0.357140</td>\n      <td>0.465586</td>\n      <td>0.358347</td>\n      <td>0.515739</td>\n      <td>0.175861</td>\n      <td>...</td>\n      <td>0.349804</td>\n      <td>0.359346</td>\n      <td>0.299172</td>\n      <td>0.593119</td>\n      <td>0.266694</td>\n      <td>0.374174</td>\n      <td>0.224755</td>\n      <td>0.304119</td>\n      <td>0.332097</td>\n      <td>0.486813</td>\n    </tr>\n    <tr>\n      <th>std</th>\n      <td>0.105024</td>\n      <td>0.106601</td>\n      <td>0.129103</td>\n      <td>0.142908</td>\n      <td>0.138147</td>\n      <td>0.087380</td>\n      <td>0.106727</td>\n      <td>0.211332</td>\n      <td>0.168230</td>\n      <td>0.082025</td>\n      <td>...</td>\n      <td>0.143213</td>\n      <td>0.136600</td>\n      <td>0.130048</td>\n      <td>0.156038</td>\n      <td>0.134524</td>\n      <td>0.132609</td>\n      <td>0.135530</td>\n      <td>0.142114</td>\n      <td>0.154010</td>\n      <td>0.205484</td>\n    </tr>\n    <tr>\n      <th>min</th>\n      <td>0.000000</td>\n      <td>0.000000</td>\n      <td>0.000000</td>\n      <td>0.000000</td>\n      <td>0.000000</td>\n      <td>0.000000</td>\n      <td>0.000000</td>\n      <td>0.000000</td>\n      <td>0.000000</td>\n      <td>0.000000</td>\n      <td>...</td>\n      <td>0.000000</td>\n      <td>0.000000</td>\n      <td>0.000000</td>\n      <td>0.000000</td>\n      <td>0.000000</td>\n      <td>0.000000</td>\n      <td>0.000000</td>\n      <td>0.000000</td>\n      <td>0.000000</td>\n      <td>0.000000</td>\n    </tr>\n    <tr>\n      <th>25%</th>\n      <td>0.060242</td>\n      <td>0.096852</td>\n      <td>0.451515</td>\n      <td>0.300115</td>\n      <td>0.210933</td>\n      <td>0.299665</td>\n      <td>0.397498</td>\n      <td>0.185596</td>\n      <td>0.403317</td>\n      <td>0.136755</td>\n      <td>...</td>\n      <td>0.249611</td>\n      <td>0.272264</td>\n      <td>0.217472</td>\n      <td>0.476368</td>\n      <td>0.169213</td>\n      <td>0.278377</td>\n      <td>0.135671</td>\n      <td>0.210190</td>\n      <td>0.232233</td>\n      <td>0.320702</td>\n    </tr>\n    <tr>\n      <th>50%</th>\n      <td>0.093298</td>\n      <td>0.136175</td>\n      <td>0.527572</td>\n      <td>0.398234</td>\n      <td>0.300335</td>\n      <td>0.353100</td>\n      <td>0.467258</td>\n      <td>0.324445</td>\n      <td>0.505952</td>\n      <td>0.163139</td>\n      <td>...</td>\n      <td>0.336580</td>\n      <td>0.359346</td>\n      <td>0.299172</td>\n      <td>0.594273</td>\n      <td>0.251577</td>\n      <td>0.378936</td>\n      <td>0.224755</td>\n      <td>0.304119</td>\n      <td>0.332097</td>\n      <td>0.473632</td>\n    </tr>\n    <tr>\n      <th>75%</th>\n      <td>0.144345</td>\n      <td>0.191805</td>\n      <td>0.609609</td>\n      <td>0.493324</td>\n      <td>0.398452</td>\n      <td>0.407698</td>\n      <td>0.526370</td>\n      <td>0.512519</td>\n      <td>0.629388</td>\n      <td>0.199127</td>\n      <td>...</td>\n      <td>0.423804</td>\n      <td>0.409264</td>\n      <td>0.324439</td>\n      <td>0.707167</td>\n      <td>0.333168</td>\n      <td>0.463402</td>\n      <td>0.268658</td>\n      <td>0.355063</td>\n      <td>0.376319</td>\n      <td>0.647532</td>\n    </tr>\n    <tr>\n      <th>max</th>\n      <td>1.000000</td>\n      <td>1.000000</td>\n      <td>1.000000</td>\n      <td>1.000000</td>\n      <td>1.000000</td>\n      <td>1.000000</td>\n      <td>1.000000</td>\n      <td>1.000000</td>\n      <td>1.000000</td>\n      <td>1.000000</td>\n      <td>...</td>\n      <td>1.000000</td>\n      <td>1.000000</td>\n      <td>1.000000</td>\n      <td>1.000000</td>\n      <td>1.000000</td>\n      <td>1.000000</td>\n      <td>1.000000</td>\n      <td>1.000000</td>\n      <td>1.000000</td>\n      <td>1.000000</td>\n    </tr>\n  </tbody>\n</table>\n<p>8 rows × 77 columns</p>\n</div>"
          },
          "execution_count": 265,
          "metadata": {},
          "output_type": "execute_result"
        }
      ]
    },
    {
      "cell_type": "markdown",
      "metadata": {
        "collapsed": false,
        "id": "YWU6VQ2B3n_l"
      },
      "source": [
        "## Detect, Handle, and Visualize Outliers"
      ]
    },
    {
      "cell_type": "markdown",
      "metadata": {
        "collapsed": false,
        "pycharm": {
          "name": "#%% md\n"
        },
        "id": "6SxOSHuT3n_l"
      },
      "source": [
        "visualize outliers with box plot"
      ]
    },
    {
      "cell_type": "code",
      "metadata": {
        "pycharm": {
          "name": "#%%\n"
        },
        "id": "wU2lpfM53n_m",
        "outputId": "cf465979-5e32-47a7-a0eb-bf39e439750a"
      },
      "source": [
        "sns.boxplot(y=df['DYRK1A_N']) # --> how to check outliers with boxplot"
      ],
      "execution_count": null,
      "outputs": [
        {
          "data": {
            "text/plain": "<AxesSubplot:ylabel='DYRK1A_N'>"
          },
          "execution_count": 266,
          "metadata": {},
          "output_type": "execute_result"
        },
        {
          "data": {
            "text/plain": "<Figure size 432x288 with 1 Axes>",
            "image/png": "[encoded data removed]"
          },
          "metadata": {},
          "output_type": "display_data"
        }
      ]
    },
    {
      "cell_type": "code",
      "metadata": {
        "pycharm": {
          "name": "#%%\n"
        },
        "id": "93EE8deW3n_m",
        "outputId": "490652bf-6b5c-4b7c-fd2d-7acfdc6dbf29"
      },
      "source": [
        "df = pd.concat([df, y], axis=1)\n",
        "df.head()"
      ],
      "execution_count": null,
      "outputs": [
        {
          "data": {
            "text/plain": "   DYRK1A_N   ITSN1_N    BDNF_N     NR1_N    NR2A_N    pAKT_N   pBRAF_N  \\\n0  0.151122  0.212885  0.824638  0.612119  0.630482  0.327006  0.448666   \n1  0.155750  0.188226  0.776455  0.601070  0.585247  0.311887  0.429899   \n2  0.153459  0.205696  0.793572  0.558911  0.575910  0.306369  0.441381   \n3  0.125169  0.157688  0.637326  0.468152  0.480646  0.335530  0.444307   \n4  0.122146  0.157838  0.637787  0.426467  0.441977  0.314976  0.433100   \n\n   pCAMKII_N   pCREB_N    pELK_N  ...     BAD_N    BCL2_N     pS6_N   pCFOS_N  \\\n0   0.168257  0.617322  0.232553  ...  0.177312  0.299172  0.426816  0.133930   \n1   0.154925  0.590173  0.205362  ...  0.146494  0.299172  0.429952  0.110434   \n2   0.153485  0.607102  0.199194  ...  0.155920  0.299172  0.448652  0.121560   \n3   0.132074  0.486945  0.205135  ...  0.229602  0.299172  0.392700  0.151031   \n4   0.129086  0.410194  0.189152  ...  0.215008  0.299172  0.410187  0.147711   \n\n      SYP_N  H3AcK18_N    EGR1_N  H3MeK4_N    CaNA_N  Treatment  \n0  0.336299   0.087715  0.102890  0.084580  0.705738        1.0  \n1  0.365208   0.080692  0.115874  0.093977  0.749771        1.0  \n2  0.353621   0.080465  0.109050  0.082162  0.868229        1.0  \n3  0.265619   0.126763  0.164241  0.144543  0.721879        1.0  \n4  0.350381   0.096959  0.136298  0.149281  0.812053        1.0  \n\n[5 rows x 78 columns]",
            "text/html": "<div>\n<style scoped>\n    .dataframe tbody tr th:only-of-type {\n        vertical-align: middle;\n    }\n\n    .dataframe tbody tr th {\n        vertical-align: top;\n    }\n\n    .dataframe thead th {\n        text-align: right;\n    }\n</style>\n<table border=\"1\" class=\"dataframe\">\n  <thead>\n    <tr style=\"text-align: right;\">\n      <th></th>\n      <th>DYRK1A_N</th>\n      <th>ITSN1_N</th>\n      <th>BDNF_N</th>\n      <th>NR1_N</th>\n      <th>NR2A_N</th>\n      <th>pAKT_N</th>\n      <th>pBRAF_N</th>\n      <th>pCAMKII_N</th>\n      <th>pCREB_N</th>\n      <th>pELK_N</th>\n      <th>...</th>\n      <th>BAD_N</th>\n      <th>BCL2_N</th>\n      <th>pS6_N</th>\n      <th>pCFOS_N</th>\n      <th>SYP_N</th>\n      <th>H3AcK18_N</th>\n      <th>EGR1_N</th>\n      <th>H3MeK4_N</th>\n      <th>CaNA_N</th>\n      <th>Treatment</th>\n    </tr>\n  </thead>\n  <tbody>\n    <tr>\n      <th>0</th>\n      <td>0.151122</td>\n      <td>0.212885</td>\n      <td>0.824638</td>\n      <td>0.612119</td>\n      <td>0.630482</td>\n      <td>0.327006</td>\n      <td>0.448666</td>\n      <td>0.168257</td>\n      <td>0.617322</td>\n      <td>0.232553</td>\n      <td>...</td>\n      <td>0.177312</td>\n      <td>0.299172</td>\n      <td>0.426816</td>\n      <td>0.133930</td>\n      <td>0.336299</td>\n      <td>0.087715</td>\n      <td>0.102890</td>\n      <td>0.084580</td>\n      <td>0.705738</td>\n      <td>1.0</td>\n    </tr>\n    <tr>\n      <th>1</th>\n      <td>0.155750</td>\n      <td>0.188226</td>\n      <td>0.776455</td>\n      <td>0.601070</td>\n      <td>0.585247</td>\n      <td>0.311887</td>\n      <td>0.429899</td>\n      <td>0.154925</td>\n      <td>0.590173</td>\n      <td>0.205362</td>\n      <td>...</td>\n      <td>0.146494</td>\n      <td>0.299172</td>\n      <td>0.429952</td>\n      <td>0.110434</td>\n      <td>0.365208</td>\n      <td>0.080692</td>\n      <td>0.115874</td>\n      <td>0.093977</td>\n      <td>0.749771</td>\n      <td>1.0</td>\n    </tr>\n    <tr>\n      <th>2</th>\n      <td>0.153459</td>\n      <td>0.205696</td>\n      <td>0.793572</td>\n      <td>0.558911</td>\n      <td>0.575910</td>\n      <td>0.306369</td>\n      <td>0.441381</td>\n      <td>0.153485</td>\n      <td>0.607102</td>\n      <td>0.199194</td>\n      <td>...</td>\n      <td>0.155920</td>\n      <td>0.299172</td>\n      <td>0.448652</td>\n      <td>0.121560</td>\n      <td>0.353621</td>\n      <td>0.080465</td>\n      <td>0.109050</td>\n      <td>0.082162</td>\n      <td>0.868229</td>\n      <td>1.0</td>\n    </tr>\n    <tr>\n      <th>3</th>\n      <td>0.125169</td>\n      <td>0.157688</td>\n      <td>0.637326</td>\n      <td>0.468152</td>\n      <td>0.480646</td>\n      <td>0.335530</td>\n      <td>0.444307</td>\n      <td>0.132074</td>\n      <td>0.486945</td>\n      <td>0.205135</td>\n      <td>...</td>\n      <td>0.229602</td>\n      <td>0.299172</td>\n      <td>0.392700</td>\n      <td>0.151031</td>\n      <td>0.265619</td>\n      <td>0.126763</td>\n      <td>0.164241</td>\n      <td>0.144543</td>\n      <td>0.721879</td>\n      <td>1.0</td>\n    </tr>\n    <tr>\n      <th>4</th>\n      <td>0.122146</td>\n      <td>0.157838</td>\n      <td>0.637787</td>\n      <td>0.426467</td>\n      <td>0.441977</td>\n      <td>0.314976</td>\n      <td>0.433100</td>\n      <td>0.129086</td>\n      <td>0.410194</td>\n      <td>0.189152</td>\n      <td>...</td>\n      <td>0.215008</td>\n      <td>0.299172</td>\n      <td>0.410187</td>\n      <td>0.147711</td>\n      <td>0.350381</td>\n      <td>0.096959</td>\n      <td>0.136298</td>\n      <td>0.149281</td>\n      <td>0.812053</td>\n      <td>1.0</td>\n    </tr>\n  </tbody>\n</table>\n<p>5 rows × 78 columns</p>\n</div>"
          },
          "execution_count": 267,
          "metadata": {},
          "output_type": "execute_result"
        }
      ]
    },
    {
      "cell_type": "markdown",
      "metadata": {
        "collapsed": false,
        "pycharm": {
          "name": "#%% md\n"
        },
        "id": "8ImUcEfx3n_n"
      },
      "source": [
        "visualize outliers with scatter plot"
      ]
    },
    {
      "cell_type": "code",
      "metadata": {
        "pycharm": {
          "name": "#%%\n"
        },
        "id": "6UYAaG923n_n",
        "outputId": "3a5a61db-adad-4164-cf39-dc88d71490fb"
      },
      "source": [
        "fig, ax = plt.subplots(figsize=(16,8))\n",
        "ax.scatter(df['Treatment'], df['DYRK1A_N']) # --> how to check outliers with scatter plot\n",
        "ax.set_xlabel('Treatment')\n",
        "ax.set_ylabel('DYRK1A_N')\n",
        "plt.show()"
      ],
      "execution_count": null,
      "outputs": [
        {
          "data": {
            "text/plain": "<Figure size 1152x576 with 1 Axes>",
            "image/png": "[encoded data removed]"
          },
          "metadata": {},
          "output_type": "display_data"
        }
      ]
    },
    {
      "cell_type": "markdown",
      "metadata": {
        "collapsed": false,
        "pycharm": {
          "name": "#%% md\n"
        },
        "id": "laCpaM_O3n_n"
      },
      "source": [
        "use for loop to visualize all columns"
      ]
    },
    {
      "cell_type": "code",
      "metadata": {
        "pycharm": {
          "name": "#%%\n"
        },
        "id": "bSIQWFna3n_p",
        "outputId": "67fe29cf-fc25-492c-e60d-f88b44569fdd"
      },
      "source": [
        "x = df.drop('Treatment',1)\n",
        "columns_name = list(x.columns)\n",
        "\n",
        "for i in column_name[1:4]:\n",
        "    df.boxplot(by='Treatment', column=[i], grid=False)"
      ],
      "execution_count": null,
      "outputs": [
        {
          "name": "stderr",
          "output_type": "stream",
          "text": [
            "/tmp/ipykernel_11189/2619863379.py:1: FutureWarning: In a future version of pandas all arguments of DataFrame.drop except for the argument 'labels' will be keyword-only\n",
            "  x = df.drop('Treatment',1)\n"
          ]
        },
        {
          "data": {
            "text/plain": "<Figure size 432x288 with 1 Axes>",
            "image/png": "[encoded data removed]"
          },
          "metadata": {},
          "output_type": "display_data"
        },
        {
          "data": {
            "text/plain": "<Figure size 432x288 with 1 Axes>",
            "image/png": "[encoded data removed]"
          },
          "metadata": {},
          "output_type": "display_data"
        },
        {
          "data": {
            "text/plain": "<Figure size 432x288 with 1 Axes>",
            "image/png": "[encoded data removed]"
          },
          "metadata": {},
          "output_type": "display_data"
        }
      ]
    },
    {
      "cell_type": "markdown",
      "metadata": {
        "collapsed": false,
        "pycharm": {
          "name": "#%% md\n"
        },
        "id": "AnyI8sA03n_p"
      },
      "source": [
        "### handle using z-score"
      ]
    },
    {
      "cell_type": "markdown",
      "metadata": {
        "collapsed": false,
        "pycharm": {
          "name": "#%% md\n"
        },
        "id": "Cbmu3fqU3n_q"
      },
      "source": [
        "identified outliers by Z-score ( -3 > z & z > 3)"
      ]
    },
    {
      "cell_type": "code",
      "metadata": {
        "pycharm": {
          "name": "#%%\n"
        },
        "id": "MYij0Tdx3n_q",
        "outputId": "763a6355-8142-4582-fc63-e7a75f7d169e"
      },
      "source": [
        "\n",
        "from scipy import stats\n",
        "\n",
        "z = np.abs(stats.zscore(df))\n",
        "print(z)\n",
        "#it is dificult to say which data point is an outlier\n",
        "\n",
        "#defining threshold\n",
        "threshold = 3\n",
        "print(np.where(z > 3))\n",
        "print(z)"
      ],
      "execution_count": null,
      "outputs": [
        {
          "name": "stdout",
          "output_type": "stream",
          "text": [
            "      DYRK1A_N   ITSN1_N    BDNF_N     NR1_N    NR2A_N    pAKT_N   pBRAF_N  \\\n",
            "0     0.312711  0.517934  2.253669  1.497362  2.304365  0.345019  0.158601   \n",
            "1     0.356798  0.286501  1.880279  1.420009  1.976769  0.518126  0.334523   \n",
            "2     0.334966  0.450465  2.012928  1.124860  1.909149  0.581298  0.226891   \n",
            "3     0.065474  0.000103  0.802123  0.489481  1.219245  0.247424  0.199461   \n",
            "4     0.036682  0.001305  0.805692  0.197652  0.939202  0.482759  0.304516   \n",
            "...        ...       ...       ...       ...       ...       ...       ...   \n",
            "1075  0.686822  0.611173  1.303022  0.591916  1.335557  0.515734  0.392136   \n",
            "1076  0.617165  0.569084  1.368405  0.391978  1.119256  0.435677  0.024078   \n",
            "1077  0.791928  0.883543  1.723830  1.627251  1.742681  0.300860  0.756205   \n",
            "1078  0.821888  0.813014  1.523876  1.214259  1.567417  0.584046  0.304649   \n",
            "1079  0.494916  0.621255  1.268453  0.589872  1.341664  0.429124  0.369178   \n",
            "\n",
            "      pCAMKII_N   pCREB_N    pELK_N  ...     BAD_N        BCL2_N     pS6_N  \\\n",
            "0      0.899902  0.604115  0.691475  ...  1.333224  8.540973e-16  1.066276   \n",
            "1      0.963018  0.442658  0.359831  ...  1.558938  8.540973e-16  1.046167   \n",
            "2      0.969835  0.543335  0.284600  ...  1.489897  8.540973e-16  0.926271   \n",
            "3      1.071196  0.171236  0.357061  ...  0.950252  8.540973e-16  1.285019   \n",
            "4      1.085341  0.627671  0.162107  ...  1.057141  8.540973e-16  1.172895   \n",
            "...         ...       ...       ...  ...       ...           ...       ...   \n",
            "1075   0.814816  0.161617  0.795452  ...  1.231384  8.540973e-16  0.400501   \n",
            "1076   0.792387  0.115758  0.745716  ...  1.230633  8.540973e-16  0.554066   \n",
            "1077   1.196955  0.842679  1.168015  ...  2.221935  8.540973e-16  0.180275   \n",
            "1078   1.122460  0.631176  1.085935  ...  2.432939  8.540973e-16  0.264492   \n",
            "1079   0.909129  0.339955  0.782332  ...  2.634965  8.540973e-16  0.183757   \n",
            "\n",
            "       pCFOS_N     SYP_N  H3AcK18_N    EGR1_N  H3MeK4_N    CaNA_N  Treatment  \n",
            "0     0.987371  0.285744   1.011615  1.416624  1.607891  1.065901   0.945905  \n",
            "1     1.162114  0.067645   1.063458  1.325218  1.546844  1.280291   0.945905  \n",
            "2     1.079366  0.155059   1.065130  1.373257  1.623595  1.857038   0.945905  \n",
            "3     0.860192  0.818989   0.723367  0.984718  1.218364  1.144490   0.945905  \n",
            "4     0.884881  0.179502   0.943378  1.181435  1.187585  1.583530   0.945905  \n",
            "...        ...       ...        ...       ...       ...       ...        ...  \n",
            "1075  2.271885  1.084095   2.752434  0.593908  2.557657  0.085303   1.057188  \n",
            "1076  1.939381  1.066451   2.878967  0.476768  1.831447  0.084215   1.057188  \n",
            "1077  1.184059  0.360708   2.799004  1.270782  3.117243  0.293525   1.057188  \n",
            "1078  2.835680  0.728860   3.068958  1.881179  3.328290  0.208996   1.057188  \n",
            "1079  2.455819  0.387434   3.052824  1.927484  3.326725  0.104788   1.057188  \n",
            "\n",
            "[1080 rows x 78 columns]\n",
            "(array([  25,   25,   25,   27,   27,   27,   27,   27,   28,   29,   30,\n",
            "         30,   31,   31,   31,   32,   32,   32,   32,   46,   47,   47,\n",
            "         87,   87,   87,   87,   87,   87,   87,   87,   88,   88,   88,\n",
            "         88,   88,   88,   89,   89,  102,  133,  133,  162,  163,  164,\n",
            "        164,  164,  165,  166,  167,  170,  175,  176,  177,  177,  177,\n",
            "        177,  177,  178,  178,  178,  178,  178,  179,  179,  179,  181,\n",
            "        205,  207,  207,  219,  220,  220,  221,  222,  222,  222,  222,\n",
            "        222,  223,  223,  223,  223,  223,  223,  223,  224,  224,  224,\n",
            "        224,  224,  224,  235,  237,  237,  238,  238,  239,  239,  239,\n",
            "        249,  249,  249,  252,  252,  252,  253,  254,  267,  268,  282,\n",
            "        283,  283,  284,  284,  284,  286,  289,  297,  298,  298,  299,\n",
            "        301,  302,  302,  302,  308,  316,  317,  317,  336,  336,  336,\n",
            "        336,  336,  336,  336,  337,  337,  337,  337,  337,  337,  337,\n",
            "        338,  338,  338,  338,  338,  338,  338,  341,  342,  342,  342,\n",
            "        342,  343,  343,  343,  344,  344,  344,  346,  347,  358,  358,\n",
            "        360,  360,  360,  360,  360,  360,  361,  361,  361,  361,  361,\n",
            "        361,  361,  362,  362,  362,  362,  362,  362,  362,  363,  363,\n",
            "        363,  363,  363,  363,  364,  364,  364,  364,  364,  364,  365,\n",
            "        365,  365,  365,  365,  365,  365,  366,  366,  366,  366,  366,\n",
            "        366,  367,  367,  367,  367,  367,  367,  368,  368,  368,  368,\n",
            "        368,  368,  369,  369,  369,  369,  369,  369,  370,  370,  370,\n",
            "        370,  370,  370,  371,  371,  371,  371,  371,  371,  372,  372,\n",
            "        372,  372,  372,  372,  373,  373,  373,  373,  373,  374,  374,\n",
            "        374,  374,  374,  374,  375,  375,  375,  375,  375,  375,  375,\n",
            "        375,  375,  375,  375,  375,  375,  375,  377,  377,  377,  378,\n",
            "        378,  378,  378,  378,  378,  378,  380,  381,  381,  384,  385,\n",
            "        387,  387,  387,  390,  390,  390,  390,  390,  390,  390,  390,\n",
            "        391,  391,  391,  391,  391,  391,  391,  392,  392,  392,  392,\n",
            "        392,  392,  393,  393,  393,  393,  394,  394,  395,  405,  406,\n",
            "        429,  429,  429,  429,  430,  430,  431,  431,  431,  432,  432,\n",
            "        433,  433,  433,  433,  434,  434,  448,  448,  449,  452,  474,\n",
            "        475,  476,  477,  478,  479,  492,  492,  494,  495,  496,  497,\n",
            "        498,  501,  515,  518,  526,  527,  531,  543,  543,  544,  544,\n",
            "        545,  545,  545,  546,  546,  547,  547,  548,  548,  549,  549,\n",
            "        549,  549,  550,  550,  550,  551,  551,  551,  551,  552,  552,\n",
            "        552,  553,  553,  553,  554,  554,  554,  554,  558,  563,  574,\n",
            "        582,  582,  583,  583,  584,  609,  612,  613,  614,  677,  696,\n",
            "        697,  698,  699,  700,  701,  702,  702,  702,  703,  704,  705,\n",
            "        705,  706,  706,  707,  708,  708,  709,  709,  710,  710,  711,\n",
            "        711,  712,  712,  713,  714,  714,  715,  715,  716,  716,  716,\n",
            "        717,  717,  717,  718,  718,  718,  719,  719,  719,  720,  721,\n",
            "        722,  723,  724,  725,  726,  727,  733,  734,  735,  735,  736,\n",
            "        738,  738,  741,  741,  742,  742,  743,  744,  744,  744,  744,\n",
            "        745,  745,  745,  746,  746,  746,  747,  747,  747,  747,  747,\n",
            "        747,  748,  748,  748,  749,  749,  759,  759,  759,  760,  760,\n",
            "        761,  761,  763,  764,  770,  773,  774,  775,  775,  777,  777,\n",
            "        777,  777,  777,  778,  778,  778,  778,  778,  778,  779,  779,\n",
            "        779,  779,  779,  779,  779,  789,  790,  791,  792,  793,  793,\n",
            "        793,  794,  843,  850,  851,  851,  852,  852,  852,  852,  852,\n",
            "        853,  853,  854,  854,  854,  854,  854,  870,  870,  870,  870,\n",
            "        871,  871,  871,  871,  872,  872,  872,  872,  873,  873,  873,\n",
            "        874,  874,  874,  875,  875,  875,  876,  876,  876,  876,  877,\n",
            "        877,  877,  877,  877,  878,  878,  878,  878,  879,  880,  881,\n",
            "        881,  882,  882,  882,  883,  883,  883,  884,  884,  884,  900,\n",
            "        901,  902,  909,  909,  910,  911,  915,  915,  916,  916,  917,\n",
            "        945,  946,  947,  979, 1020, 1020, 1020, 1020, 1020, 1023, 1026,\n",
            "       1026, 1026, 1029, 1029, 1029, 1029, 1029, 1030, 1032, 1032, 1037,\n",
            "       1037, 1044, 1063, 1077, 1078, 1078, 1079, 1079]), array([33, 39, 40, 40, 53, 55, 63, 70, 63, 63, 23, 24, 23, 24, 37,  2, 23,\n",
            "       24, 37, 49,  4, 49, 44, 45, 52, 53, 54, 55, 63, 70, 44, 52, 53, 54,\n",
            "       63, 70, 52, 63, 52, 30, 51, 74, 34,  6, 22, 74, 15, 15, 15, 15, 74,\n",
            "       69, 58, 69, 71, 74, 75,  6, 68, 69, 74, 75, 68, 69, 74,  2, 38, 13,\n",
            "       29, 71, 22, 71, 71,  6, 22, 57, 64, 71, 22, 60, 62, 64, 67, 71, 73,\n",
            "       22, 51, 60, 64, 67, 71, 69, 69, 74, 69, 74, 68, 69, 74, 51, 68, 69,\n",
            "       51, 68, 69, 71, 68, 34, 34, 68, 59, 68,  9, 29, 68, 59, 59, 74, 51,\n",
            "       74, 74, 49, 15, 23, 49, 17, 49, 23, 49,  5,  6, 11, 13, 18, 19, 26,\n",
            "        5,  6, 11, 13, 18, 19, 26,  5,  6, 11, 13, 18, 19, 26,  5,  6, 11,\n",
            "       18, 26, 11, 18, 26, 11, 18, 26, 49, 49, 27, 47,  0,  1,  9, 10, 20,\n",
            "       25,  0,  1,  9, 10, 20, 25, 66,  0,  1,  9, 10, 20, 25, 66,  0,  1,\n",
            "        9, 10, 20, 25,  0,  1,  9, 10, 20, 25,  0,  1,  9, 10, 20, 25, 66,\n",
            "        0,  1,  9, 10, 20, 25,  0,  1,  9, 10, 20, 25,  0,  1,  9, 10, 20,\n",
            "       25,  0,  1,  9, 10, 20, 25,  0,  1,  9, 10, 20, 25,  0,  1,  9, 10,\n",
            "       20, 25,  0,  1,  9, 10, 20, 25,  0,  1,  9, 20, 25,  0,  1,  9, 10,\n",
            "       20, 25,  2,  3,  4, 14, 16, 19, 23, 24, 31, 36, 37, 39, 41, 43,  4,\n",
            "       14, 23,  3,  4, 14, 16, 37, 39, 41, 39, 37, 39, 54,  8, 36, 39, 54,\n",
            "       23, 43, 44, 45, 47, 55, 62, 72, 23, 43, 44, 45, 55, 62, 72, 23, 43,\n",
            "       44, 45, 62, 72, 43, 45, 47, 62, 43, 62, 62, 45, 45, 16, 28, 29, 57,\n",
            "       16, 28, 16, 25, 28, 45, 57, 21, 22, 29, 45, 29, 45, 33, 34, 64, 38,\n",
            "       67, 67, 67, 67, 67, 67, 67, 74, 74, 32, 32, 32,  9,  9,  9,  9, 23,\n",
            "       23, 51, 50, 56, 50, 56, 50, 56, 75, 50, 56, 50, 56, 50, 56, 50, 56,\n",
            "       74, 75, 50, 56, 75, 50, 56, 74, 75, 50, 56, 75, 50, 56, 75, 50, 56,\n",
            "       74, 75, 30, 63, 30, 36, 38, 36, 38, 36, 69, 69, 69, 69, 49, 42, 42,\n",
            "       42, 42, 42, 42, 18, 42, 68, 42, 42, 32, 73, 32, 73, 73, 50, 73, 50,\n",
            "       73, 50, 73, 50, 73, 50, 73, 73, 50, 73, 50, 73, 50, 56, 73, 50, 56,\n",
            "       73, 50, 56, 73, 50, 56, 73, 32, 32, 32, 32, 32, 32, 32, 32, 68, 74,\n",
            "       36, 41, 50, 50, 52, 36, 41, 34, 50, 34, 50, 51, 57, 75, 34, 50, 75,\n",
            "       50, 56, 75, 34, 40, 50, 51, 57, 75, 40, 50, 75, 40, 50, 38, 51, 65,\n",
            "       51, 65, 51, 65, 60, 60, 21,  5, 21, 13, 21,  5, 21, 26, 27, 29,  5,\n",
            "       11, 13, 21, 27, 29,  5,  6, 13, 21, 22, 26, 29, 67, 67, 67, 67, 54,\n",
            "       67, 69, 67, 57, 45, 57, 69, 57, 58, 64, 69, 75, 57, 69, 57, 61, 68,\n",
            "       69, 75, 33, 35, 36, 38, 33, 35, 36, 38, 33, 35, 36, 38, 35, 36, 38,\n",
            "       35, 36, 38, 35, 36, 38, 33, 35, 36, 38, 33, 35, 36, 38, 51, 33, 35,\n",
            "       36, 38, 35, 35, 35, 36, 35, 36, 38, 35, 36, 38, 35, 36, 38, 49, 49,\n",
            "       49, 52, 54, 52, 52, 23, 43, 23, 24, 23, 32, 32, 32, 69,  7, 30, 37,\n",
            "       41, 42, 42, 41, 42, 54, 36, 37, 40, 41, 42, 41, 41, 42, 41, 49, 13,\n",
            "        5, 75, 73, 75, 73, 75]))\n",
            "      DYRK1A_N   ITSN1_N    BDNF_N     NR1_N    NR2A_N    pAKT_N   pBRAF_N  \\\n",
            "0     0.312711  0.517934  2.253669  1.497362  2.304365  0.345019  0.158601   \n",
            "1     0.356798  0.286501  1.880279  1.420009  1.976769  0.518126  0.334523   \n",
            "2     0.334966  0.450465  2.012928  1.124860  1.909149  0.581298  0.226891   \n",
            "3     0.065474  0.000103  0.802123  0.489481  1.219245  0.247424  0.199461   \n",
            "4     0.036682  0.001305  0.805692  0.197652  0.939202  0.482759  0.304516   \n",
            "...        ...       ...       ...       ...       ...       ...       ...   \n",
            "1075  0.686822  0.611173  1.303022  0.591916  1.335557  0.515734  0.392136   \n",
            "1076  0.617165  0.569084  1.368405  0.391978  1.119256  0.435677  0.024078   \n",
            "1077  0.791928  0.883543  1.723830  1.627251  1.742681  0.300860  0.756205   \n",
            "1078  0.821888  0.813014  1.523876  1.214259  1.567417  0.584046  0.304649   \n",
            "1079  0.494916  0.621255  1.268453  0.589872  1.341664  0.429124  0.369178   \n",
            "\n",
            "      pCAMKII_N   pCREB_N    pELK_N  ...     BAD_N        BCL2_N     pS6_N  \\\n",
            "0      0.899902  0.604115  0.691475  ...  1.333224  8.540973e-16  1.066276   \n",
            "1      0.963018  0.442658  0.359831  ...  1.558938  8.540973e-16  1.046167   \n",
            "2      0.969835  0.543335  0.284600  ...  1.489897  8.540973e-16  0.926271   \n",
            "3      1.071196  0.171236  0.357061  ...  0.950252  8.540973e-16  1.285019   \n",
            "4      1.085341  0.627671  0.162107  ...  1.057141  8.540973e-16  1.172895   \n",
            "...         ...       ...       ...  ...       ...           ...       ...   \n",
            "1075   0.814816  0.161617  0.795452  ...  1.231384  8.540973e-16  0.400501   \n",
            "1076   0.792387  0.115758  0.745716  ...  1.230633  8.540973e-16  0.554066   \n",
            "1077   1.196955  0.842679  1.168015  ...  2.221935  8.540973e-16  0.180275   \n",
            "1078   1.122460  0.631176  1.085935  ...  2.432939  8.540973e-16  0.264492   \n",
            "1079   0.909129  0.339955  0.782332  ...  2.634965  8.540973e-16  0.183757   \n",
            "\n",
            "       pCFOS_N     SYP_N  H3AcK18_N    EGR1_N  H3MeK4_N    CaNA_N  Treatment  \n",
            "0     0.987371  0.285744   1.011615  1.416624  1.607891  1.065901   0.945905  \n",
            "1     1.162114  0.067645   1.063458  1.325218  1.546844  1.280291   0.945905  \n",
            "2     1.079366  0.155059   1.065130  1.373257  1.623595  1.857038   0.945905  \n",
            "3     0.860192  0.818989   0.723367  0.984718  1.218364  1.144490   0.945905  \n",
            "4     0.884881  0.179502   0.943378  1.181435  1.187585  1.583530   0.945905  \n",
            "...        ...       ...        ...       ...       ...       ...        ...  \n",
            "1075  2.271885  1.084095   2.752434  0.593908  2.557657  0.085303   1.057188  \n",
            "1076  1.939381  1.066451   2.878967  0.476768  1.831447  0.084215   1.057188  \n",
            "1077  1.184059  0.360708   2.799004  1.270782  3.117243  0.293525   1.057188  \n",
            "1078  2.835680  0.728860   3.068958  1.881179  3.328290  0.208996   1.057188  \n",
            "1079  2.455819  0.387434   3.052824  1.927484  3.326725  0.104788   1.057188  \n",
            "\n",
            "[1080 rows x 78 columns]\n"
          ]
        }
      ]
    },
    {
      "cell_type": "code",
      "metadata": {
        "pycharm": {
          "name": "#%%\n"
        },
        "id": "Tqyjlz0s3n_s",
        "outputId": "5ea0f804-3103-4484-d3ad-538bf3dba85b"
      },
      "source": [
        "# before dump the outliers\n",
        "df.shape"
      ],
      "execution_count": null,
      "outputs": [
        {
          "data": {
            "text/plain": "(1080, 78)"
          },
          "execution_count": 271,
          "metadata": {},
          "output_type": "execute_result"
        }
      ]
    },
    {
      "cell_type": "code",
      "metadata": {
        "pycharm": {
          "name": "#%%\n"
        },
        "id": "rF2XzA4S3n_t",
        "outputId": "6554ca1d-16a5-4641-cf0d-f14b9d3a614e"
      },
      "source": [
        "# after dump the outliers\n",
        "# use the Z-score\n",
        "\n",
        "dataset_cleared_zscore = df[(z < 3).all(axis=1)]\n",
        "dataset_cleared_zscore"
      ],
      "execution_count": null,
      "outputs": [
        {
          "data": {
            "text/plain": "      DYRK1A_N   ITSN1_N    BDNF_N     NR1_N    NR2A_N    pAKT_N   pBRAF_N  \\\n0     0.151122  0.212885  0.824638  0.612119  0.630482  0.327006  0.448666   \n1     0.155750  0.188226  0.776455  0.601070  0.585247  0.311887  0.429899   \n2     0.153459  0.205696  0.793572  0.558911  0.575910  0.306369  0.441381   \n3     0.125169  0.157688  0.637326  0.468152  0.480646  0.335530  0.444307   \n4     0.122146  0.157838  0.637787  0.426467  0.441977  0.314976  0.433100   \n...        ...       ...       ...       ...       ...       ...       ...   \n1072  0.079337  0.114111  0.526790  0.406379  0.254166  0.363012  0.542319   \n1073  0.057198  0.120249  0.482915  0.395647  0.223277  0.384151  0.520720   \n1074  0.036123  0.075608  0.364569  0.221717  0.105214  0.307888  0.342729   \n1075  0.046197  0.092577  0.365672  0.313684  0.127872  0.312096  0.423753   \n1076  0.053509  0.097062  0.357235  0.342243  0.157739  0.395191  0.468154   \n\n      pCAMKII_N   pCREB_N    pELK_N  ...     BAD_N    BCL2_N     pS6_N  \\\n0      0.168257  0.617322  0.232553  ...  0.177312  0.299172  0.426816   \n1      0.154925  0.590173  0.205362  ...  0.146494  0.299172  0.429952   \n2      0.153485  0.607102  0.199194  ...  0.155920  0.299172  0.448652   \n3      0.132074  0.486945  0.205135  ...  0.229602  0.299172  0.392700   \n4      0.129086  0.410194  0.189152  ...  0.215008  0.299172  0.410187   \n...         ...       ...       ...  ...       ...       ...       ...   \n1072   0.263240  0.530645  0.121313  ...  0.415872  0.299172  0.552213   \n1073   0.261773  0.563221  0.125322  ...  0.406839  0.299172  0.599970   \n1074   0.137262  0.385500  0.091605  ...  0.617371  0.299172  0.553272   \n1075   0.186230  0.488562  0.110645  ...  0.527476  0.299172  0.530654   \n1076   0.190968  0.535204  0.114722  ...  0.527373  0.299172  0.506703   \n\n       pCFOS_N     SYP_N  H3AcK18_N    EGR1_N  H3MeK4_N    CaNA_N  Treatment  \n0     0.133930  0.336299   0.087715  0.102890  0.084580  0.705738        1.0  \n1     0.110434  0.365208   0.080692  0.115874  0.093977  0.749771        1.0  \n2     0.121560  0.353621   0.080465  0.109050  0.082162  0.868229        1.0  \n3     0.151031  0.265619   0.126763  0.164241  0.144543  0.721879        1.0  \n4     0.147711  0.350381   0.096959  0.136298  0.149281  0.812053        1.0  \n...        ...       ...        ...       ...       ...       ...        ...  \n1072  0.145491  0.273033   0.495235  0.254268  0.511825  0.460334        2.0  \n1073  0.116592  0.299238   0.493636  0.302205  0.433242  0.460592        2.0  \n1074  0.526990  0.262143   0.536498  0.369655  0.661053  0.540244        2.0  \n1075  0.572176  0.230480   0.597619  0.388482  0.725820  0.504334        2.0  \n1076  0.527466  0.232818   0.614760  0.371843  0.614028  0.504110        2.0  \n\n[821 rows x 78 columns]",
            "text/html": "<div>\n<style scoped>\n    .dataframe tbody tr th:only-of-type {\n        vertical-align: middle;\n    }\n\n    .dataframe tbody tr th {\n        vertical-align: top;\n    }\n\n    .dataframe thead th {\n        text-align: right;\n    }\n</style>\n<table border=\"1\" class=\"dataframe\">\n  <thead>\n    <tr style=\"text-align: right;\">\n      <th></th>\n      <th>DYRK1A_N</th>\n      <th>ITSN1_N</th>\n      <th>BDNF_N</th>\n      <th>NR1_N</th>\n      <th>NR2A_N</th>\n      <th>pAKT_N</th>\n      <th>pBRAF_N</th>\n      <th>pCAMKII_N</th>\n      <th>pCREB_N</th>\n      <th>pELK_N</th>\n      <th>...</th>\n      <th>BAD_N</th>\n      <th>BCL2_N</th>\n      <th>pS6_N</th>\n      <th>pCFOS_N</th>\n      <th>SYP_N</th>\n      <th>H3AcK18_N</th>\n      <th>EGR1_N</th>\n      <th>H3MeK4_N</th>\n      <th>CaNA_N</th>\n      <th>Treatment</th>\n    </tr>\n  </thead>\n  <tbody>\n    <tr>\n      <th>0</th>\n      <td>0.151122</td>\n      <td>0.212885</td>\n      <td>0.824638</td>\n      <td>0.612119</td>\n      <td>0.630482</td>\n      <td>0.327006</td>\n      <td>0.448666</td>\n      <td>0.168257</td>\n      <td>0.617322</td>\n      <td>0.232553</td>\n      <td>...</td>\n      <td>0.177312</td>\n      <td>0.299172</td>\n      <td>0.426816</td>\n      <td>0.133930</td>\n      <td>0.336299</td>\n      <td>0.087715</td>\n      <td>0.102890</td>\n      <td>0.084580</td>\n      <td>0.705738</td>\n      <td>1.0</td>\n    </tr>\n    <tr>\n      <th>1</th>\n      <td>0.155750</td>\n      <td>0.188226</td>\n      <td>0.776455</td>\n      <td>0.601070</td>\n      <td>0.585247</td>\n      <td>0.311887</td>\n      <td>0.429899</td>\n      <td>0.154925</td>\n      <td>0.590173</td>\n      <td>0.205362</td>\n      <td>...</td>\n      <td>0.146494</td>\n      <td>0.299172</td>\n      <td>0.429952</td>\n      <td>0.110434</td>\n      <td>0.365208</td>\n      <td>0.080692</td>\n      <td>0.115874</td>\n      <td>0.093977</td>\n      <td>0.749771</td>\n      <td>1.0</td>\n    </tr>\n    <tr>\n      <th>2</th>\n      <td>0.153459</td>\n      <td>0.205696</td>\n      <td>0.793572</td>\n      <td>0.558911</td>\n      <td>0.575910</td>\n      <td>0.306369</td>\n      <td>0.441381</td>\n      <td>0.153485</td>\n      <td>0.607102</td>\n      <td>0.199194</td>\n      <td>...</td>\n      <td>0.155920</td>\n      <td>0.299172</td>\n      <td>0.448652</td>\n      <td>0.121560</td>\n      <td>0.353621</td>\n      <td>0.080465</td>\n      <td>0.109050</td>\n      <td>0.082162</td>\n      <td>0.868229</td>\n      <td>1.0</td>\n    </tr>\n    <tr>\n      <th>3</th>\n      <td>0.125169</td>\n      <td>0.157688</td>\n      <td>0.637326</td>\n      <td>0.468152</td>\n      <td>0.480646</td>\n      <td>0.335530</td>\n      <td>0.444307</td>\n      <td>0.132074</td>\n      <td>0.486945</td>\n      <td>0.205135</td>\n      <td>...</td>\n      <td>0.229602</td>\n      <td>0.299172</td>\n      <td>0.392700</td>\n      <td>0.151031</td>\n      <td>0.265619</td>\n      <td>0.126763</td>\n      <td>0.164241</td>\n      <td>0.144543</td>\n      <td>0.721879</td>\n      <td>1.0</td>\n    </tr>\n    <tr>\n      <th>4</th>\n      <td>0.122146</td>\n      <td>0.157838</td>\n      <td>0.637787</td>\n      <td>0.426467</td>\n      <td>0.441977</td>\n      <td>0.314976</td>\n      <td>0.433100</td>\n      <td>0.129086</td>\n      <td>0.410194</td>\n      <td>0.189152</td>\n      <td>...</td>\n      <td>0.215008</td>\n      <td>0.299172</td>\n      <td>0.410187</td>\n      <td>0.147711</td>\n      <td>0.350381</td>\n      <td>0.096959</td>\n      <td>0.136298</td>\n      <td>0.149281</td>\n      <td>0.812053</td>\n      <td>1.0</td>\n    </tr>\n    <tr>\n      <th>...</th>\n      <td>...</td>\n      <td>...</td>\n      <td>...</td>\n      <td>...</td>\n      <td>...</td>\n      <td>...</td>\n      <td>...</td>\n      <td>...</td>\n      <td>...</td>\n      <td>...</td>\n      <td>...</td>\n      <td>...</td>\n      <td>...</td>\n      <td>...</td>\n      <td>...</td>\n      <td>...</td>\n      <td>...</td>\n      <td>...</td>\n      <td>...</td>\n      <td>...</td>\n      <td>...</td>\n    </tr>\n    <tr>\n      <th>1072</th>\n      <td>0.079337</td>\n      <td>0.114111</td>\n      <td>0.526790</td>\n      <td>0.406379</td>\n      <td>0.254166</td>\n      <td>0.363012</td>\n      <td>0.542319</td>\n      <td>0.263240</td>\n      <td>0.530645</td>\n      <td>0.121313</td>\n      <td>...</td>\n      <td>0.415872</td>\n      <td>0.299172</td>\n      <td>0.552213</td>\n      <td>0.145491</td>\n      <td>0.273033</td>\n      <td>0.495235</td>\n      <td>0.254268</td>\n      <td>0.511825</td>\n      <td>0.460334</td>\n      <td>2.0</td>\n    </tr>\n    <tr>\n      <th>1073</th>\n      <td>0.057198</td>\n      <td>0.120249</td>\n      <td>0.482915</td>\n      <td>0.395647</td>\n      <td>0.223277</td>\n      <td>0.384151</td>\n      <td>0.520720</td>\n      <td>0.261773</td>\n      <td>0.563221</td>\n      <td>0.125322</td>\n      <td>...</td>\n      <td>0.406839</td>\n      <td>0.299172</td>\n      <td>0.599970</td>\n      <td>0.116592</td>\n      <td>0.299238</td>\n      <td>0.493636</td>\n      <td>0.302205</td>\n      <td>0.433242</td>\n      <td>0.460592</td>\n      <td>2.0</td>\n    </tr>\n    <tr>\n      <th>1074</th>\n      <td>0.036123</td>\n      <td>0.075608</td>\n      <td>0.364569</td>\n      <td>0.221717</td>\n      <td>0.105214</td>\n      <td>0.307888</td>\n      <td>0.342729</td>\n      <td>0.137262</td>\n      <td>0.385500</td>\n      <td>0.091605</td>\n      <td>...</td>\n      <td>0.617371</td>\n      <td>0.299172</td>\n      <td>0.553272</td>\n      <td>0.526990</td>\n      <td>0.262143</td>\n      <td>0.536498</td>\n      <td>0.369655</td>\n      <td>0.661053</td>\n      <td>0.540244</td>\n      <td>2.0</td>\n    </tr>\n    <tr>\n      <th>1075</th>\n      <td>0.046197</td>\n      <td>0.092577</td>\n      <td>0.365672</td>\n      <td>0.313684</td>\n      <td>0.127872</td>\n      <td>0.312096</td>\n      <td>0.423753</td>\n      <td>0.186230</td>\n      <td>0.488562</td>\n      <td>0.110645</td>\n      <td>...</td>\n      <td>0.527476</td>\n      <td>0.299172</td>\n      <td>0.530654</td>\n      <td>0.572176</td>\n      <td>0.230480</td>\n      <td>0.597619</td>\n      <td>0.388482</td>\n      <td>0.725820</td>\n      <td>0.504334</td>\n      <td>2.0</td>\n    </tr>\n    <tr>\n      <th>1076</th>\n      <td>0.053509</td>\n      <td>0.097062</td>\n      <td>0.357235</td>\n      <td>0.342243</td>\n      <td>0.157739</td>\n      <td>0.395191</td>\n      <td>0.468154</td>\n      <td>0.190968</td>\n      <td>0.535204</td>\n      <td>0.114722</td>\n      <td>...</td>\n      <td>0.527373</td>\n      <td>0.299172</td>\n      <td>0.506703</td>\n      <td>0.527466</td>\n      <td>0.232818</td>\n      <td>0.614760</td>\n      <td>0.371843</td>\n      <td>0.614028</td>\n      <td>0.504110</td>\n      <td>2.0</td>\n    </tr>\n  </tbody>\n</table>\n<p>821 rows × 78 columns</p>\n</div>"
          },
          "execution_count": 272,
          "metadata": {},
          "output_type": "execute_result"
        }
      ]
    },
    {
      "cell_type": "markdown",
      "metadata": {
        "collapsed": false,
        "pycharm": {
          "name": "#%% md\n"
        },
        "id": "GUINvHhL3n_t"
      },
      "source": [
        "### handle outliers using Algorithm for IQR (Interquartile Range)"
      ]
    },
    {
      "cell_type": "code",
      "metadata": {
        "pycharm": {
          "name": "#%%\n"
        },
        "id": "73gK1TIf3n_u",
        "outputId": "45230716-3863-4226-c6e5-4cb134810294"
      },
      "source": [
        "Q1 = df.quantile(0.25)\n",
        "Q3 = df.quantile(0.75)\n",
        "IQR = Q3 - Q1\n",
        "print(IQR)"
      ],
      "execution_count": null,
      "outputs": [
        {
          "name": "stdout",
          "output_type": "stream",
          "text": [
            "DYRK1A_N     0.084103\n",
            "ITSN1_N      0.094952\n",
            "BDNF_N       0.158094\n",
            "NR1_N        0.193209\n",
            "NR2A_N       0.187519\n",
            "               ...   \n",
            "H3AcK18_N    0.132987\n",
            "EGR1_N       0.144874\n",
            "H3MeK4_N     0.144086\n",
            "CaNA_N       0.326830\n",
            "Treatment    1.000000\n",
            "Length: 78, dtype: float64\n"
          ]
        }
      ]
    },
    {
      "cell_type": "code",
      "metadata": {
        "pycharm": {
          "name": "#%%\n"
        },
        "id": "ss5Qgi473n_v",
        "outputId": "7dc519d1-5df1-4439-fdce-e6c40636140e"
      },
      "source": [
        "# before dump the outliers\n",
        "df.shape"
      ],
      "execution_count": null,
      "outputs": [
        {
          "data": {
            "text/plain": "(1080, 78)"
          },
          "execution_count": 274,
          "metadata": {},
          "output_type": "execute_result"
        }
      ]
    },
    {
      "cell_type": "code",
      "metadata": {
        "pycharm": {
          "name": "#%%\n"
        },
        "id": "JwV0KxFZ3n_w",
        "outputId": "5d92d72d-66ba-4943-aa22-30b0b7d80e60"
      },
      "source": [
        "# after dump the outliers\n",
        "# using IQR\n",
        "\n",
        "dataset_cleared_iqr = df[~((df < (Q1 - 1.5 * IQR)) | (df > (Q3 + 1.5 * IQR))).any(axis=1)]\n",
        "print(dataset_cleared_iqr.shape)"
      ],
      "execution_count": null,
      "outputs": [
        {
          "name": "stdout",
          "output_type": "stream",
          "text": [
            "(543, 78)\n"
          ]
        }
      ]
    },
    {
      "cell_type": "code",
      "metadata": {
        "pycharm": {
          "name": "#%%\n"
        },
        "id": "5Lh3TpXw3n_x"
      },
      "source": [
        "df_out = dataset_cleared_iqr"
      ],
      "execution_count": null,
      "outputs": []
    },
    {
      "cell_type": "code",
      "metadata": {
        "pycharm": {
          "name": "#%%\n"
        },
        "id": "yerP_RqX3n_y",
        "outputId": "404cbecb-3b48-4d7a-d138-232b4998c6d7"
      },
      "source": [
        "df_out['Treatment'].value_counts()"
      ],
      "execution_count": null,
      "outputs": [
        {
          "data": {
            "text/plain": "1.0    298\n2.0    245\nName: Treatment, dtype: int64"
          },
          "execution_count": 277,
          "metadata": {},
          "output_type": "execute_result"
        }
      ]
    },
    {
      "cell_type": "code",
      "metadata": {
        "pycharm": {
          "name": "#%%\n"
        },
        "id": "Yd5HE_Fw3n_z",
        "outputId": "c7d30a6d-8a6c-43e0-987c-50385b6c8af5"
      },
      "source": [
        "df_out['Treatment'].value_counts().plot(kind='bar', title='Count {target}')"
      ],
      "execution_count": null,
      "outputs": [
        {
          "data": {
            "text/plain": "<AxesSubplot:title={'center':'Count {target}'}>"
          },
          "execution_count": 278,
          "metadata": {},
          "output_type": "execute_result"
        },
        {
          "data": {
            "text/plain": "<Figure size 432x288 with 1 Axes>",
            "image/png": "[encoded data removed]"
          },
          "metadata": {},
          "output_type": "display_data"
        }
      ]
    },
    {
      "cell_type": "markdown",
      "metadata": {
        "collapsed": false,
        "pycharm": {
          "name": "#%% md\n"
        },
        "id": "Zj4PxqUg3n_1"
      },
      "source": [
        "berdasarkan grafik diatas data dari kedua kelas memiliki perbedaan yang cukup tinggi sehingga kita harus memperbaikinya. inilah yang dinamankan resampling"
      ]
    },
    {
      "cell_type": "markdown",
      "metadata": {
        "collapsed": false,
        "pycharm": {
          "name": "#%% md\n"
        },
        "id": "JsAa9t0d3n_2"
      },
      "source": [
        "## Resampling"
      ]
    },
    {
      "cell_type": "code",
      "metadata": {
        "pycharm": {
          "name": "#%%\n"
        },
        "id": "wNoBpTvC3n_2",
        "outputId": "ebcb4b97-884a-422e-958b-ceede063c606"
      },
      "source": [
        "from xgboost import XGBClassifier\n",
        "from sklearn.model_selection import train_test_split\n",
        "from sklearn.metrics import accuracy_score\n",
        "\n",
        "X = df_out.iloc[:,:-1]\n",
        "y = df_out.iloc[:,-1]\n",
        "\n",
        "X_train, X_test, y_train, y_test = train_test_split(X, y, test_size=0.2)\n",
        "\n",
        "model = XGBClassifier()\n",
        "model.fit(X_train, y_train)\n",
        "y_pred = model.predict(X_test)\n",
        "\n",
        "accuracy = accuracy_score(y_test, y_pred)\n",
        "print('Accuracy: %.2f%%' % (accuracy * 100.0))"
      ],
      "execution_count": null,
      "outputs": [
        {
          "name": "stdout",
          "output_type": "stream",
          "text": [
            "[05:15:15] WARNING: ../src/learner.cc:1095: Starting in XGBoost 1.3.0, the default evaluation metric used with the objective 'binary:logistic' was changed from 'error' to 'logloss'. Explicitly set eval_metric if you'd like to restore the old behavior.\n",
            "Accuracy: 95.41%\n"
          ]
        },
        {
          "name": "stderr",
          "output_type": "stream",
          "text": [
            "/home/risqullah/Coding/data-mining/venv/lib/python3.9/site-packages/xgboost/sklearn.py:1146: UserWarning: The use of label encoder in XGBClassifier is deprecated and will be removed in a future release. To remove this warning, do the following: 1) Pass option use_label_encoder=False when constructing XGBClassifier object; and 2) Encode your labels (y) as integers starting with 0, i.e. 0, 1, 2, ..., [num_class - 1].\n",
            "  warnings.warn(label_encoder_deprecation_msg, UserWarning)\n"
          ]
        }
      ]
    },
    {
      "cell_type": "code",
      "metadata": {
        "pycharm": {
          "name": "#%%\n"
        },
        "id": "4GX8ucHB3n_3",
        "outputId": "b290e632-9ce8-4524-af14-c764849555da"
      },
      "source": [
        "df['Treatment'].unique()"
      ],
      "execution_count": null,
      "outputs": [
        {
          "data": {
            "text/plain": "array([1., 2.])"
          },
          "execution_count": 291,
          "metadata": {},
          "output_type": "execute_result"
        }
      ]
    },
    {
      "cell_type": "code",
      "metadata": {
        "pycharm": {
          "name": "#%%\n"
        },
        "id": "sG9e-GXW3n_5",
        "outputId": "6fd0c833-425c-4f30-b851-982cebbd26aa"
      },
      "source": [
        "from sklearn.metrics import confusion_matrix\n",
        "\n",
        "conf_mat = confusion_matrix(y_true=y_test, y_pred=y_pred)\n",
        "print('Confusion matrix:\\n', conf_mat)\n",
        "\n",
        "labels = ['Memantine', 'Saline']\n",
        "fig = plt.figure()\n",
        "ax = fig.add_subplot(111)\n",
        "cax = ax.matshow(conf_mat, cmap=plt.cm.Blues)\n",
        "fig.colorbar(cax)\n",
        "ax.set_xticklabels([''] + labels)\n",
        "ax.set_yticklabels([''] + labels)\n",
        "plt.xlabel('Predicted')\n",
        "plt.ylabel('Expected')\n",
        "plt.show()"
      ],
      "execution_count": null,
      "outputs": [
        {
          "name": "stdout",
          "output_type": "stream",
          "text": [
            "Confusion matrix:\n",
            " [[58  4]\n",
            " [ 1 46]]\n"
          ]
        },
        {
          "name": "stderr",
          "output_type": "stream",
          "text": [
            "/tmp/ipykernel_11189/1058296913.py:11: UserWarning: FixedFormatter should only be used together with FixedLocator\n",
            "  ax.set_xticklabels([''] + labels)\n",
            "/tmp/ipykernel_11189/1058296913.py:12: UserWarning: FixedFormatter should only be used together with FixedLocator\n",
            "  ax.set_yticklabels([''] + labels)\n"
          ]
        },
        {
          "data": {
            "text/plain": "<Figure size 432x288 with 2 Axes>",
            "image/png": "[encoded data removed]"
          },
          "metadata": {},
          "output_type": "display_data"
        }
      ]
    },
    {
      "cell_type": "code",
      "metadata": {
        "pycharm": {
          "name": "#%%\n"
        },
        "id": "bnmqXZWx3n_6"
      },
      "source": [
        "from sklearn.datasets import make_classification\n",
        "from imblearn.over_sampling import RandomOverSampler\n",
        "from imblearn.under_sampling import RandomUnderSampler\n",
        "from collections import Counter"
      ],
      "execution_count": null,
      "outputs": []
    },
    {
      "cell_type": "code",
      "metadata": {
        "pycharm": {
          "name": "#%%\n"
        },
        "id": "gfotMsBz3n_6",
        "outputId": "b595c805-3238-46f9-c82a-ce5d24730ec9"
      },
      "source": [
        "print(\"Before : \",Counter(y))"
      ],
      "execution_count": null,
      "outputs": [
        {
          "name": "stdout",
          "output_type": "stream",
          "text": [
            "Before :  Counter({1.0: 298, 2.0: 245})\n"
          ]
        }
      ]
    },
    {
      "cell_type": "markdown",
      "metadata": {
        "collapsed": false,
        "pycharm": {
          "name": "#%% md\n"
        },
        "id": "44Jby48u3n_7"
      },
      "source": [
        "1. Random Over Sampling"
      ]
    },
    {
      "cell_type": "code",
      "metadata": {
        "pycharm": {
          "name": "#%%\n"
        },
        "id": "PGSOJ8tY3n_8",
        "outputId": "c2024d25-1eed-4831-9590-d61844e43b0f"
      },
      "source": [
        "# instantiating the random oversample\n",
        "ros = RandomOverSampler()\n",
        "\n",
        "# resampling X, y\n",
        "X_ros, y_ros = ros.fit_resample(X, y)\n",
        "\n",
        "# new class distribution\n",
        "print(\"After : \",Counter(y_ros))"
      ],
      "execution_count": null,
      "outputs": [
        {
          "name": "stdout",
          "output_type": "stream",
          "text": [
            "After :  Counter({1.0: 298, 2.0: 298})\n"
          ]
        }
      ]
    },
    {
      "cell_type": "markdown",
      "metadata": {
        "collapsed": false,
        "pycharm": {
          "name": "#%% md\n"
        },
        "id": "JhWzcOWk3n_8"
      },
      "source": [
        "2. SMOTE (Synthetic Minority Oversampling Technique)"
      ]
    },
    {
      "cell_type": "code",
      "metadata": {
        "pycharm": {
          "name": "#%%\n"
        },
        "id": "iFC3Qf6Q3n_9",
        "outputId": "55e27540-6fe2-44a4-83cd-cf8437625637"
      },
      "source": [
        "from imblearn.over_sampling import SMOTE\n",
        "smote = SMOTE(sampling_strategy='minority')\n",
        "X_sm, y_sm = smote.fit_resample(X, y)\n",
        "\n",
        "print(Counter(y_sm))"
      ],
      "execution_count": null,
      "outputs": [
        {
          "name": "stdout",
          "output_type": "stream",
          "text": [
            "Counter({1.0: 298, 2.0: 298})\n"
          ]
        }
      ]
    },
    {
      "cell_type": "markdown",
      "metadata": {
        "collapsed": false,
        "pycharm": {
          "name": "#%% md\n"
        },
        "id": "atwPUc493n_-"
      },
      "source": [
        "3. SMOTE Tomek"
      ]
    },
    {
      "cell_type": "code",
      "metadata": {
        "pycharm": {
          "name": "#%%\n"
        },
        "id": "rbgQQjaX3n_-",
        "outputId": "d4f9148d-9c0f-40b1-8a5a-2c399b856aee"
      },
      "source": [
        "from imblearn.combine import SMOTETomek\n",
        "\n",
        "smt = smt = SMOTETomek(sampling_strategy='auto')\n",
        "X_smt, y_smt = smt.fit_resample(X, y)\n",
        "print(Counter(y_smt))"
      ],
      "execution_count": null,
      "outputs": [
        {
          "name": "stdout",
          "output_type": "stream",
          "text": [
            "Counter({1.0: 298, 2.0: 298})\n"
          ]
        }
      ]
    },
    {
      "cell_type": "markdown",
      "metadata": {
        "collapsed": false,
        "pycharm": {
          "name": "#%% md\n"
        },
        "id": "kTtPEool3n__"
      },
      "source": [
        "4. Random Under Sampling"
      ]
    },
    {
      "cell_type": "code",
      "metadata": {
        "pycharm": {
          "name": "#%%\n"
        },
        "id": "9r9turMw3oAA",
        "outputId": "5dcfdc4a-fb8a-439f-e141-664858e16a61"
      },
      "source": [
        "# instantiating the random undersampler\n",
        "rus = RandomUnderSampler()\n",
        "\n",
        "# resampling X, y\n",
        "X_rus, y_rus = rus.fit_resample(X, y)\n",
        "\n",
        "# new class distribution\n",
        "print(Counter(y_rus))"
      ],
      "execution_count": null,
      "outputs": [
        {
          "name": "stdout",
          "output_type": "stream",
          "text": [
            "Counter({1.0: 245, 2.0: 245})\n"
          ]
        }
      ]
    },
    {
      "cell_type": "markdown",
      "metadata": {
        "collapsed": false,
        "pycharm": {
          "name": "#%% md\n"
        },
        "id": "zsgAq18f3oAB"
      },
      "source": [
        "5. Tomek Links"
      ]
    },
    {
      "cell_type": "code",
      "metadata": {
        "pycharm": {
          "name": "#%%\n"
        },
        "id": "Xx5L97lO3oAC",
        "outputId": "550f391d-9f35-476d-9741-41c3639c1acc"
      },
      "source": [
        "from imblearn.under_sampling import TomekLinks\n",
        "\n",
        "tl = TomekLinks(sampling_strategy='majority')\n",
        "X_tl, y_tl = tl.fit_resample(X, y)\n",
        "\n",
        "print(Counter(y_tl))"
      ],
      "execution_count": null,
      "outputs": [
        {
          "name": "stdout",
          "output_type": "stream",
          "text": [
            "Counter({1.0: 298, 2.0: 245})\n"
          ]
        }
      ]
    },
    {
      "cell_type": "markdown",
      "metadata": {
        "collapsed": false,
        "pycharm": {
          "name": "#%% md\n"
        },
        "id": "aTsAs2oz3oAD"
      },
      "source": [
        "6. cluster centroid"
      ]
    },
    {
      "cell_type": "code",
      "metadata": {
        "pycharm": {
          "name": "#%%\n"
        },
        "id": "-6wB8rIF3oAE",
        "outputId": "bcbbab18-c55d-4a38-acec-e3c27a5ea464"
      },
      "source": [
        "from imblearn.under_sampling import ClusterCentroids\n",
        "\n",
        "cc = ClusterCentroids()\n",
        "x_cc, y_cc = cc.fit_resample(X, y)\n",
        "\n",
        "print(Counter(y_cc))"
      ],
      "execution_count": null,
      "outputs": [
        {
          "name": "stdout",
          "output_type": "stream",
          "text": [
            "Counter({1.0: 245, 2.0: 245})\n"
          ]
        }
      ]
    },
    {
      "cell_type": "code",
      "metadata": {
        "pycharm": {
          "name": "#%%\n"
        },
        "id": "URnwxsVD3oAF"
      },
      "source": [
        ""
      ],
      "execution_count": null,
      "outputs": []
    }
  ]
}
